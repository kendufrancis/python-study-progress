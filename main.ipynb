{
 "cells": [
  {
   "cell_type": "markdown",
   "metadata": {},
   "source": [
    "\n",
    "## Types of Errors in Programming\n",
    "* Syntax Error\n",
    "* Runtime Error\n",
    "Logic Error\n",
    "## Syntax Error\n",
    "I\n",
    "* A syntax error is an error in the syntax of a program. you did not follow the rules of the language. * Syntax errors are usually caused by a typo.\n",
    "## Runtime Error\n",
    "* A runtime error is an error that occurs during the execution of a program.\n",
    "Runtime errors are usually caused by a bug in the program.\n",
    "## Logic Error\n",
    "* A logic error is an error in the logic of a program.\n",
    "Logic errors are usually caused by a mistake in the program. You did not think things through.\n",
    "A logic error is a mistake in the program that causes the program to behave in an unexpected way. loggical errors are very difficult to find and fix.\n",
    "## Python Syntax\n",
    "* Each line in a Python script is a statement.\n",
    "A statement is a line of code that does something.\n",
    "Use backslash character to join a statement span over multiple lines, as shown below"
   ]
  },
  {
   "cell_type": "code",
   "execution_count": 7,
   "metadata": {},
   "outputs": [
    {
     "name": "stdout",
     "output_type": "stream",
     "text": [
      "250\n"
     ]
    }
   ],
   "source": [
    "wage = 10\n",
    "rate = 25\n",
    "totalwage = 10*25\n",
    "print(totalwage)"
   ]
  },
  {
   "cell_type": "markdown",
   "metadata": {},
   "source": [
    "age = input(\"what is your name\")\n",
    "print(\"age\")"
   ]
  },
  {
   "cell_type": "code",
   "execution_count": 8,
   "metadata": {},
   "outputs": [
    {
     "name": "stdout",
     "output_type": "stream",
     "text": [
      "   /|\n",
      "  / |\n",
      " /  |\n",
      "/___|\n"
     ]
    }
   ],
   "source": [
    "print(\"   /|\")\n",
    "print(\"  / |\")\n",
    "print(\" /  |\")\n",
    "print(\"/___|\")"
   ]
  },
  {
   "cell_type": "code",
   "execution_count": 9,
   "metadata": {},
   "outputs": [
    {
     "name": "stdout",
     "output_type": "stream",
     "text": [
      "kendu was originally called  francis,\n",
      "his real age is 10, \n",
      "he however also hates the name john, \n",
      "and for some reason he doesnt like the age 10\n"
     ]
    }
   ],
   "source": [
    "character_name = \"francis\"\n",
    "character_age = \"10\"\n",
    "print(\"kendu was originally called  \" + character_name + \",\")\n",
    "print (\"his real age is \" + character_age + \", \")\n",
    "character_name = \"john\"\n",
    "print(\"he however also hates the name \" + character_name + \", \")\n",
    "print(\"and for some reason he doesnt like the age 10\")"
   ]
  },
  {
   "cell_type": "code",
   "execution_count": 10,
   "metadata": {},
   "outputs": [
    {
     "name": "stdout",
     "output_type": "stream",
     "text": [
      "green kendu\n"
     ]
    }
   ],
   "source": [
    "phrase = \"green land\"\n",
    "print(phrase.replace(\"land\", \"kendu\"))"
   ]
  },
  {
   "cell_type": "code",
   "execution_count": 11,
   "metadata": {},
   "outputs": [
    {
     "name": "stdout",
     "output_type": "stream",
     "text": [
      "kendu francis naahnze\n"
     ]
    }
   ],
   "source": [
    "phrase = 'kendu francis naahnze'\n",
    "print(phrase) # replace kendu with tankalong\n"
   ]
  },
  {
   "cell_type": "code",
   "execution_count": 12,
   "metadata": {},
   "outputs": [
    {
     "name": "stdout",
     "output_type": "stream",
     "text": [
      "tankalong francis naahnze\n"
     ]
    }
   ],
   "source": [
    "phrase = 'kendu francis naahnze'\n",
    "print(phrase.replace('kendu', 'tankalong'))"
   ]
  },
  {
   "cell_type": "code",
   "execution_count": 13,
   "metadata": {},
   "outputs": [
    {
     "name": "stdout",
     "output_type": "stream",
     "text": [
      "KENDU FRANCIS NAAHNZE\n"
     ]
    }
   ],
   "source": [
    "phrase = 'kendu francis naahnze'\n",
    "print('kendu francis naahnze'.upper())"
   ]
  },
  {
   "cell_type": "code",
   "execution_count": 63,
   "metadata": {},
   "outputs": [
    {
     "name": "stdout",
     "output_type": "stream",
     "text": [
      "<class 'dict'>\n",
      "<class 'dict'>\n"
     ]
    }
   ],
   "source": [
    "my_dict = {\"country\": \"cameroon\", \"worldcups\":2}\n",
    "print(type(my_dict))\n",
    "my_country = dict(country=\"cameroon\", worldcups=2)\n",
    "print(type(my_country))"
   ]
  },
  {
   "cell_type": "code",
   "execution_count": null,
   "metadata": {},
   "outputs": [
    {
     "name": "stdout",
     "output_type": "stream",
     "text": [
      "20\n"
     ]
    }
   ],
   "source": [
    "my_str = str('20')\n",
    "print(my_str)"
   ]
  },
  {
   "cell_type": "code",
   "execution_count": null,
   "metadata": {},
   "outputs": [
    {
     "name": "stdout",
     "output_type": "stream",
     "text": [
      "2\n"
     ]
    }
   ],
   "source": [
    "my_int = int(2.5)\n",
    "print(my_int)"
   ]
  },
  {
   "cell_type": "code",
   "execution_count": null,
   "metadata": {},
   "outputs": [
    {
     "name": "stdout",
     "output_type": "stream",
     "text": [
      "33.0\n"
     ]
    }
   ],
   "source": [
    "my_float = float(33)\n",
    "print(my_float)"
   ]
  },
  {
   "cell_type": "code",
   "execution_count": null,
   "metadata": {},
   "outputs": [
    {
     "name": "stdout",
     "output_type": "stream",
     "text": [
      "20.5\n",
      "<class 'float'>\n"
     ]
    }
   ],
   "source": [
    "my_int = 10\n",
    "my_float = 10.5\n",
    "my_sum = my_int + my_float\n",
    "print(my_sum)\n",
    "print(type(my_sum))"
   ]
  },
  {
   "cell_type": "code",
   "execution_count": null,
   "metadata": {},
   "outputs": [
    {
     "name": "stdout",
     "output_type": "stream",
     "text": [
      "10.0\n"
     ]
    }
   ],
   "source": [
    "my_float = float(10)\n",
    "print(my_float)"
   ]
  },
  {
   "cell_type": "code",
   "execution_count": null,
   "metadata": {},
   "outputs": [
    {
     "name": "stdout",
     "output_type": "stream",
     "text": [
      "brazil\n"
     ]
    }
   ],
   "source": [
    "country = input('what is your country') # user input brazil\n",
    "print(country)"
   ]
  },
  {
   "cell_type": "code",
   "execution_count": null,
   "metadata": {},
   "outputs": [
    {
     "name": "stdout",
     "output_type": "stream",
     "text": [
      "kendu francis\n"
     ]
    }
   ],
   "source": [
    "name = input('what is your name') # input kendu francis\n",
    "print(name)"
   ]
  },
  {
   "cell_type": "code",
   "execution_count": null,
   "metadata": {},
   "outputs": [
    {
     "name": "stdout",
     "output_type": "stream",
     "text": [
      "<class 'str'>\n",
      "10\n"
     ]
    }
   ],
   "source": [
    "age = input('what is your age') # input age as 10\n",
    "print(type(age))\n",
    "print(int(age))"
   ]
  },
  {
   "cell_type": "code",
   "execution_count": null,
   "metadata": {},
   "outputs": [
    {
     "name": "stdout",
     "output_type": "stream",
     "text": [
      "addition: 10\n",
      "subtraction: 2\n",
      "multiplication: 15\n",
      "division: 3.3333333333333335\n",
      "division 3\n",
      "modulus: 1\n"
     ]
    }
   ],
   "source": [
    "# Arithemetic operations\n",
    "# intergers = whole numbers without decimal\n",
    "# flaoting point mumbers = numbers with points\n",
    "#\n",
    "print('addition:', 5 + 5)\n",
    "print('subtraction:', 5 - 3)\n",
    "print('multiplication:', 3 * 5)\n",
    "print('division:', 10 / 3)\n",
    "print('division', 10 // 3) # division to get an interger or rounding down or up\n",
    "print('modulus:', 10 % 3) # to show the remainder of the division\n",
    "print('exponent:', 10 ** 3) # for double multiplication"
   ]
  },
  {
   "cell_type": "code",
   "execution_count": null,
   "metadata": {},
   "outputs": [
    {
     "name": "stdout",
     "output_type": "stream",
     "text": [
      "i am 10 years old\n"
     ]
    }
   ],
   "source": [
    "\n",
    "age = 'i am '     +    str(10)    +      ' years old'\n",
    "print(age)"
   ]
  },
  {
   "cell_type": "code",
   "execution_count": null,
   "metadata": {},
   "outputs": [
    {
     "name": "stdout",
     "output_type": "stream",
     "text": [
      "True\n"
     ]
    }
   ],
   "source": [
    "number_list =  [1,2,3,4,5,]\n",
    "print( 1 in number_list)"
   ]
  },
  {
   "cell_type": "code",
   "execution_count": null,
   "metadata": {},
   "outputs": [
    {
     "name": "stdout",
     "output_type": "stream",
     "text": [
      "hello world\n"
     ]
    }
   ],
   "source": []
  },
  {
   "cell_type": "code",
   "execution_count": 6,
   "metadata": {},
   "outputs": [
    {
     "name": "stdout",
     "output_type": "stream",
     "text": [
      "kendu\n"
     ]
    }
   ],
   "source": [
    "name = 'kendu'\n",
    "print(name)"
   ]
  },
  {
   "cell_type": "code",
   "execution_count": 18,
   "metadata": {},
   "outputs": [],
   "source": [
    " # we check in a patient named john smith. he is 20 years old and is a new patient\n",
    "patient_name = 'john smith'\n",
    "age = 20\n",
    "is_new = True"
   ]
  },
  {
   "cell_type": "code",
   "execution_count": 12,
   "metadata": {},
   "outputs": [
    {
     "name": "stdout",
     "output_type": "stream",
     "text": [
      " hi kendu\n"
     ]
    }
   ],
   "source": [
    "name = input('what is your name ?')\n",
    "print( ' hi ' + name)"
   ]
  },
  {
   "cell_type": "code",
   "execution_count": 21,
   "metadata": {},
   "outputs": [
    {
     "name": "stdout",
     "output_type": "stream",
     "text": [
      "kendu likes, blue\n"
     ]
    }
   ],
   "source": [
    "# Ask two questions: persons's name and favourite color. Then, print a message like 'kendu likes blue'\n",
    "name = input('what is your name ')\n",
    "favorite_color = input('what is your favourite colour')\n",
    "print( name + ' likes, ' + favorite_color )"
   ]
  },
  {
   "cell_type": "code",
   "execution_count": 22,
   "metadata": {},
   "outputs": [
    {
     "name": "stdout",
     "output_type": "stream",
     "text": [
      "30\n"
     ]
    }
   ],
   "source": [
    "# build a program that ask the year your were born, calculate your age and print it on the terminal.\n",
    "### you cannot add string to an interger,so we use the \"int\" function to convert a string to an interger.\n",
    "#### we equally have flaot for converting a string to a float or a decimal to an interger\n",
    "\n",
    "birth_year = input('birth year:' )\n",
    "age = 2023 - int(birth_year)\n",
    "print(age)"
   ]
  },
  {
   "cell_type": "code",
   "execution_count": 25,
   "metadata": {},
   "outputs": [
    {
     "name": "stdout",
     "output_type": "stream",
     "text": [
      "14.85\n"
     ]
    }
   ],
   "source": [
    "# Ask a user their weight (in pounds), convert it to kilograms and print on the terminal.\n",
    "weight_lbs = input(\" weight (lbs)\" )\n",
    "weight_kg = int(weight_lbs) * 0.45\n",
    "print(weight_kg)"
   ]
  },
  {
   "cell_type": "code",
   "execution_count": 28,
   "metadata": {},
   "outputs": [
    {
     "name": "stdout",
     "output_type": "stream",
     "text": [
      "python's course for beginners\n",
      "python course for \"beginners\"\n"
     ]
    }
   ],
   "source": [
    "# working with single,multiple and tripple codes\n",
    "## python's course for beginners  will be written as>\n",
    "course = \"python's course for beginners\" \n",
    "print(course)\n",
    "course = 'python course for \"beginners\"'\n",
    "print(course)\n"
   ]
  },
  {
   "cell_type": "code",
   "execution_count": 41,
   "metadata": {},
   "outputs": [
    {
     "name": "stdout",
     "output_type": "stream",
     "text": [
      "p\n",
      "s\n",
      "pyth\n"
     ]
    }
   ],
   "source": [
    "# indexing in python starts with 0,1,2,3,4,.....\n",
    "course = \"python for beginners\"\n",
    "print(course[0])\n",
    "print(course[-1])\n",
    "print(course[0:4]) # list the characters from 0 to 4"
   ]
  },
  {
   "cell_type": "code",
   "execution_count": 42,
   "metadata": {},
   "outputs": [
    {
     "name": "stdout",
     "output_type": "stream",
     "text": [
      "ennife\n"
     ]
    }
   ],
   "source": [
    "# define a variable called name and set it to jennifer.  tell what we are going to see on the terminal with running the program\n",
    "name = 'jennifer'\n",
    "print(name[1:-1])"
   ]
  },
  {
   "cell_type": "code",
   "execution_count": 51,
   "metadata": {},
   "outputs": [
    {
     "name": "stdout",
     "output_type": "stream",
     "text": [
      "kendu [francis] is a coder\n",
      "kendu [francis] is a coder\n"
     ]
    }
   ],
   "source": [
    "#  writings sentence{s that includes putting some special characters\n",
    "## write the sentence> kendu [francis] is a coder\n",
    "first_name   = 'kendu'\n",
    "last_name =  'francis'\n",
    "message = first_name + ' [' + last_name + '] is a coder' # option 1 and not a good approach\n",
    "msg = f'{first_name} [{last_name}] is a coder' # option 2,best approach (thsi is a called a formatted string)\n",
    "print( message)\n",
    "print(msg)"
   ]
  },
  {
   "cell_type": "code",
   "execution_count": 61,
   "metadata": {},
   "outputs": [
    {
     "name": "stdout",
     "output_type": "stream",
     "text": [
      "20\n",
      "PYTHON FOR BEGINNERS\n",
      "0\n",
      "9\n",
      "python for absolute beginners\n",
      "True\n",
      "False\n"
     ]
    }
   ],
   "source": [
    "# calculatting the number is characters in a sentence using the build-in functions ' len '. the function is also used to enforce a limit in a sentence,characters, ... .. its a general purpose function and could be used to count the number of itmens in a list\n",
    "course = 'python for beginners'\n",
    "print(len(course))\n",
    "# to see all the functions specific to string,we use the dot (.) operator. e.g. 'course.' since they are specific, they are equally called methods\n",
    "print(course.upper())\n",
    "print(course.find('p'))\n",
    "print(course.find('r'))\n",
    "print(course.replace('beginners', 'absolute beginners'))\n",
    "# we can equally use the 'in' function to fine the existience of a word in a sentence. its equally a boolean expression because it produces a value True or False.\n",
    "print('python' in course)\n",
    "print('PYTHON' in course)\n"
   ]
  },
  {
   "cell_type": "code",
   "execution_count": 66,
   "metadata": {},
   "outputs": [
    {
     "name": "stdout",
     "output_type": "stream",
     "text": [
      "addition: 10\n",
      "subtraction: 2\n",
      "multiplication: 15\n",
      "division: 3.3333333333333335\n",
      "division 3\n",
      "modulus: 1\n",
      "exponent: 1000\n",
      "30\n",
      "2\n"
     ]
    }
   ],
   "source": []
  },
  {
   "cell_type": "code",
   "execution_count": null,
   "metadata": {},
   "outputs": [],
   "source": [
    "# Arithemetic operations\n",
    "# intergers = whole numbers without decimal\n",
    "# flaoting point mumbers = numbers with points\n",
    "#\n",
    "print('addition:', 5 + 5)\n",
    "print('subtraction:', 5 - 3)\n",
    "print('multiplication:', 3 * 5)\n",
    "print('division:', 10 / 3) \n",
    "print('division', 10 // 3) # division to get an interger or rounding down or up\n",
    "print('modulus:', 10 % 3) # to show the remainder of the division , here, you are interested in the remainder.\n",
    "print('exponent:', 10 ** 3) # for double multiplication (exponential)\n",
    "# we equally have the augmented or assignemet operator\n",
    "x = 10\n",
    "x = x * 3\n",
    "y = 3\n",
    "y -= 1\n",
    "print(x)\n",
    "print(y)"
   ]
  },
  {
   "cell_type": "code",
   "execution_count": 9,
   "metadata": {},
   "outputs": [
    {
     "name": "stdout",
     "output_type": "stream",
     "text": [
      "250\n"
     ]
    }
   ],
   "source": [
    "# exercise. \n",
    "# write a program that calculates the wages of a person. make sure to use variables to store the values.\n",
    "# pay rate is $10/hr , hours worked is 25\n",
    "#  solution\n",
    "hourly_wage = 10\n",
    "hours_worked = 25\n",
    "total_wage = hourly_wage * hours_worked\n",
    "print(total_wage)\n",
    "\n"
   ]
  },
  {
   "cell_type": "code",
   "execution_count": 69,
   "metadata": {},
   "outputs": [
    {
     "name": "stdout",
     "output_type": "stream",
     "text": [
      "16\n",
      "47\n"
     ]
    }
   ],
   "source": [
    "# Operator precedence\n",
    "# show the operators that will be executed in an operation befor the others.\n",
    "x = 10 + 3 * 2 # here multiplacation is first executed\n",
    "print(x)\n",
    "# the  order of value is as follows\n",
    "#parenthesis\n",
    "#exponentiation 2 ** 2\n",
    "#multiplication or division \n",
    "#addition or subtraction \n",
    "\n",
    "x = (2 + 3) * 10 - 3\n",
    "print(x)\n",
    "\n",
    "\n"
   ]
  },
  {
   "cell_type": "code",
   "execution_count": 71,
   "metadata": {},
   "outputs": [
    {
     "name": "stdout",
     "output_type": "stream",
     "text": [
      "10\n",
      "2.9\n"
     ]
    }
   ],
   "source": [
    "# ROUND FUNCTIONS. \n",
    "# abs functions equally give an absolute/positive value\n",
    "x = 9.99\n",
    "print(round(x))\n",
    "print(abs(-2.9))\n",
    "# all mathematical appliations always use modules for calculations, modules is a bunch of reusable functions\n",
    "# 'math.' will give you all the reusable functions, python3 modules are differnt from python3 modules and you will have to refer the python documentation for guidance\n"
   ]
  },
  {
   "cell_type": "code",
   "execution_count": 79,
   "metadata": {},
   "outputs": [
    {
     "name": "stdout",
     "output_type": "stream",
     "text": [
      "equal: False\n",
      "not equal: False\n",
      "greater than: True\n",
      "lessthan: False\n",
      "greater than or equal: True\n",
      "lessthan or equal to: True\n",
      "it's a lovely day\n"
     ]
    }
   ],
   "source": [
    "# COMPARISON OPERATORS\n",
    "#  'if ' statements. they are contiditonal statements that decides what to do if a value is true or false\n",
    "print('equal:', 3 == 4)\n",
    "print('not equal:', 3 != 3)\n",
    "print('greater than:', 4 > 3)\n",
    "print('lessthan:', 3 < 2)\n",
    "print('greater than or equal:', 3 >= 3)\n",
    "print('lessthan or equal to:', 3 <= 3)\n",
    "\n",
    "# let us implement the following statement\n",
    "# if it's hot \n",
    "#            its a hot day\n",
    "#            drink plenty of water\n",
    "# otherwise if its cold\n",
    "#              it's a cold day\n",
    "#              go to bed to avoid catching cold\n",
    "# otherwise\n",
    "#              its a lovely day\n",
    "is_hot = False\n",
    "is_cold = True\n",
    "if is_hot:\n",
    "    print(\"It's a hot day\")\n",
    "    print(\"Drinck plenty of water\")\n",
    "elif is_cold:\n",
    "    print(\"it's a lovely day\")\n",
    "else:\n",
    "    print(\"it's a cold day\")\n",
    "    print(\"go to bed to avoid catching cold\")\n",
    "\n"
   ]
  },
  {
   "cell_type": "code",
   "execution_count": 81,
   "metadata": {},
   "outputs": [
    {
     "name": "stdout",
     "output_type": "stream",
     "text": [
      "he is kendu francis\n",
      "he's 30 years old and a new patient\n"
     ]
    }
   ],
   "source": [
    "# write an application for \" we check in a patient named kendu francis. he's 30 years old and is a new patient\"\n",
    "is_patient = True\n",
    "if is_patient:\n",
    "    print(\"he is kendu francis\")\n",
    "    print(\"he's 30 years old and a new patient\")\n",
    "else:\n",
    "    print( \"franthere is no new patient as kendu francis\")\n"
   ]
  },
  {
   "cell_type": "code",
   "execution_count": 83,
   "metadata": {},
   "outputs": [
    {
     "name": "stdout",
     "output_type": "stream",
     "text": [
      "down_payment: $100000.0\n"
     ]
    }
   ],
   "source": [
    "# write a program for this role and display the reqired the down payments :\n",
    "#        price of a house is $1m\n",
    "#       if buyer has good credit,\n",
    "#       they need to put doown 10%\n",
    "#       otherwise\n",
    "#       they need to put down 20%\n",
    "# print the down payment\n",
    "# SOLN,\n",
    "price = 1000000\n",
    "has_good_credit = True\n",
    "if has_good_credit:\n",
    "    down_payment  = 0.1 * price\n",
    "else:\n",
    "    down_payment = 0.2 * price\n",
    "print(f\"down_payment: ${down_payment}\")"
   ]
  },
  {
   "cell_type": "code",
   "execution_count": 84,
   "metadata": {},
   "outputs": [
    {
     "name": "stdout",
     "output_type": "stream",
     "text": [
      "eligible for loan\n"
     ]
    }
   ],
   "source": [
    "# LOGICAL OPERATORS. Used in conditions where we have multiple operators \n",
    "# eg. if applicant has high income AND good credit\n",
    "# eligible for loan\n",
    "# here, we use the logical \"AND\" operator to combine the two conditions\n",
    "# we equally use the \"or \" operator if one of the conditions is true\n",
    "\n",
    "has_high_income = True\n",
    "has_good_credit = True\n",
    "if has_high_income and has_good_credit:\n",
    "    print (\"eligible for loan\")"
   ]
  },
  {
   "cell_type": "code",
   "execution_count": 92,
   "metadata": {},
   "outputs": [
    {
     "name": "stdout",
     "output_type": "stream",
     "text": [
      "name looks good\n",
      "name must be at least 3 characters\n"
     ]
    }
   ],
   "source": [
    "# exercise:\n",
    "# if name is less than 3 characters long\n",
    "#      name must be at least 3 characters\n",
    "# otherwise , if its more than 50 characters long\n",
    "#      name can be a maximum of 50 characters\n",
    "# otherwise\n",
    "#      name looks good\n",
    "\n",
    "name_less_than_3_characters = False\n",
    "name_more_than_50_characters = False\n",
    "if name_less_than_3_characters:\n",
    "    print(\"name must be at least 3 characters\")\n",
    "elif name_more_than_50_characters:\n",
    "    print(\"name can be a maximum of 50 characters\")\n",
    "else:\n",
    "    print(\"name looks good\")\n",
    "\n",
    "    # correction\n",
    "\n",
    "name = \"x\"\n",
    "if len(name) < 3:\n",
    "    print(\"name must be at least 3 characters\")\n",
    "elif len(name) > 50:\n",
    "    print(\"name must be a maximum of 50 characters\")\n",
    "else:\n",
    "    print(\"name looks good\")\n",
    "\n"
   ]
  },
  {
   "cell_type": "code",
   "execution_count": 1,
   "metadata": {},
   "outputs": [
    {
     "name": "stdout",
     "output_type": "stream",
     "text": [
      "1\n",
      "2\n",
      "3\n",
      "4\n",
      "5\n",
      "done\n"
     ]
    }
   ],
   "source": [
    "# WHILE LOOPS\n",
    "# it's used to execute a block of code multiple times\n",
    "# used in building interactive programs and games\n",
    "# as long as a condition is true, code will be repeated and executed\n",
    "\n",
    "i = 1\n",
    "while i <= 5:\n",
    "    print(i)\n",
    "    i = i + 1\n",
    "print(\"done\")"
   ]
  },
  {
   "cell_type": "code",
   "execution_count": 2,
   "metadata": {},
   "outputs": [
    {
     "name": "stdout",
     "output_type": "stream",
     "text": [
      "*\n",
      "**\n",
      "***\n",
      "****\n",
      "*****\n",
      "done\n"
     ]
    }
   ],
   "source": [
    "# WHILE LOOPS\n",
    "# it's used to execute a block of code multiple times\n",
    "# used in building interactive programs and games\n",
    "# as long as a condition is true, code will be repeated and executed\n",
    "\n",
    "i = 1\n",
    "while i <= 5:\n",
    "    print('*' * i) \n",
    "    i = i + 1\n",
    "print(\"done\")"
   ]
  },
  {
   "cell_type": "code",
   "execution_count": 28,
   "metadata": {},
   "outputs": [
    {
     "name": "stdout",
     "output_type": "stream",
     "text": [
      "YOU WON\n"
     ]
    }
   ],
   "source": [
    "# GUESS GAME.\n",
    "# here, we are using a while loop to build a guessing game\n",
    "# here, the while loop only gets termimated onlyu when Guest has been made three times\n",
    "secret_number = 9\n",
    "guess_count = 1\n",
    "guess_limit = 3\n",
    "while guess_count < guess_limit:\n",
    "    guess = int(input('guess: '))\n",
    "    guess_count += 1\n",
    "    if guess == secret_number:\n",
    "        print('YOU WON')"
   ]
  },
  {
   "cell_type": "code",
   "execution_count": 31,
   "metadata": {},
   "outputs": [
    {
     "name": "stdout",
     "output_type": "stream",
     "text": [
      "sorry, you fialed\n"
     ]
    }
   ],
   "source": [
    "# here we are addding a condition which terminates the while loop if guest is right.\n",
    "# we will use the \"break\" statement to terminate the loop\n",
    "# equally adds a fail statement if guess is not right\n",
    "secret_number = 9\n",
    "guess_count = 0\n",
    "guess_limit = 3\n",
    "while guess_count < guess_limit:\n",
    "    guess = int(input('guess: '))\n",
    "    guess_count += 1\n",
    "    if guess == secret_number:\n",
    "        print('YOU WON')\n",
    "        break\n",
    "else:\n",
    "    print('sorry, you fialed')"
   ]
  },
  {
   "cell_type": "code",
   "execution_count": 33,
   "metadata": {},
   "outputs": [
    {
     "name": "stdout",
     "output_type": "stream",
     "text": [
      "car started\n",
      "car stopped\n",
      "\n",
      "start - to start a car\n",
      "stop -  to stop a car\n",
      "quit  -  to exit\n",
      "\n",
      "i don't understand that ....\n"
     ]
    }
   ],
   "source": [
    "# exercise. we will be building a program that does the following\n",
    "# if you type \"help\", it will display\n",
    "#                 start - to start a car\n",
    "#                 stop -  to stop a car\n",
    "#                 quit  -  to exit\n",
    "# if you type anything like \" kendu, orp, .. .. \" it will display\n",
    "#                i don't understand that ....\n",
    "# if you type \"start\" , it will display\n",
    "#                car started ..... ready to go\n",
    "# if you type  \"stop\", it will display\n",
    "#               car stopped\n",
    "# and if you type \"quit\", the process is aborted\n",
    "\n",
    "                        #   SOLUTION\n",
    "command = \"\"    # this is an empty string because it does't have anything in it.capitalize\n",
    "while True:\n",
    "    command = input(\"> \"). lower() # to ensure all entries are converted to lower characters\n",
    "    if command == \"start\":\n",
    "        print(\"car started\")\n",
    "    elif command == \"stop\":\n",
    "        print(\"car stopped\")\n",
    "    elif command ==\"help\":\n",
    "        print(\"\"\"\n",
    "start - to start a car\n",
    "stop -  to stop a car\n",
    "quit  -  to exit\n",
    "\"\"\")\n",
    "    elif command == \"quit\":\n",
    "        break\n",
    "    else:\n",
    "        print(\"i don't understand that ....\")\n",
    "        \n",
    "\n"
   ]
  },
  {
   "cell_type": "code",
   "execution_count": 6,
   "metadata": {},
   "outputs": [
    {
     "name": "stdout",
     "output_type": "stream",
     "text": [
      "car stopped\n",
      "car already stopped\n",
      "car stopped\n"
     ]
    }
   ],
   "source": [
    "# here, we will modify the condition so much that if an entry is repeated, it will display a message showing that the action has already happenned\n",
    "\n",
    "                        #   SOLUTION\n",
    "command = \"\"    # this is an empty string because it does't have anything in it.capitalize\n",
    "started = False\n",
    "while True:\n",
    "    command = input(\"> \"). lower() # to ensure all entries are converted to lower characters\n",
    "    if command == \"start\":\n",
    "        if started:\n",
    "            print(\"car is already started\")\n",
    "        else:\n",
    "            started = True\n",
    "        print(\"car started\")\n",
    "    elif command == \"stop\":\n",
    "        print(\"car stopped\")\n",
    "        if not started:\n",
    "            print(\"car already stopped\")\n",
    "        else:\n",
    "            started = False\n",
    "        print(\"car stopped\")\n",
    "    elif command ==\"help\":\n",
    "        print(\"\"\"\n",
    "start - to start a car\n",
    "stop -  to stop a car\n",
    "quit  -  to exit\n",
    "\"\"\")\n",
    "    elif command == \"quit\":\n",
    "        break\n",
    "    else:\n",
    "        print(\"i don't understand that ....\")\n",
    "        \n",
    "\n"
   ]
  },
  {
   "cell_type": "code",
   "execution_count": 8,
   "metadata": {},
   "outputs": [
    {
     "name": "stdout",
     "output_type": "stream",
     "text": [
      "kendu\n",
      "francis\n",
      "naahnze\n",
      "0\n",
      "1\n",
      "2\n",
      "3\n",
      "4\n",
      "1\n",
      "3\n",
      "5\n",
      "7\n",
      "9\n"
     ]
    }
   ],
   "source": [
    "# FOR LOOPS\n",
    "# used to iterate over items of collection such as a string\n",
    "\n",
    "for item in ['kendu', 'francis', 'naahnze']:\n",
    "    print(item)\n",
    "\n",
    "# but if we want to interate over a long list of numbers, we use the \"RANGE\"\n",
    "\n",
    "for item in range(5):\n",
    "    print(item)\n",
    "\n",
    "# we can equally pas a step in the function like\n",
    "for item in range(1,10,2):\n",
    "    print(item)"
   ]
  },
  {
   "cell_type": "code",
   "execution_count": 18,
   "metadata": {},
   "outputs": [
    {
     "name": "stdout",
     "output_type": "stream",
     "text": [
      "total: 60\n"
     ]
    }
   ],
   "source": [
    "#EXERCICE\n",
    "# write a program to calculate the total cost of all the items on a shooping card given that >\n",
    "prices = [10,20,30] \n",
    "\n",
    "# sloution\n",
    "\n",
    "total = 0\n",
    "for price in prices:\n",
    "    total += price\n",
    "print(f\"total: {total}\")"
   ]
  },
  {
   "cell_type": "code",
   "execution_count": 1,
   "metadata": {},
   "outputs": [
    {
     "name": "stdout",
     "output_type": "stream",
     "text": [
      "0\n",
      "1\n",
      "2\n",
      "3\n"
     ]
    }
   ],
   "source": [
    "# NESTED LOOPS\n",
    "# this means adding one loop inside another loop\n",
    "\n",
    "for x in range(4):\n",
    "    print(x)"
   ]
  },
  {
   "cell_type": "code",
   "execution_count": 2,
   "metadata": {},
   "outputs": [
    {
     "name": "stdout",
     "output_type": "stream",
     "text": [
      "(0, 0)\n",
      "(0, 1)\n",
      "(0, 2)\n",
      "(1, 0)\n",
      "(1, 1)\n",
      "(1, 2)\n",
      "(2, 0)\n",
      "(2, 1)\n",
      "(2, 2)\n",
      "(3, 0)\n",
      "(3, 1)\n",
      "(3, 2)\n"
     ]
    }
   ],
   "source": [
    "for x in range(4):\n",
    "    for y in range (3):\n",
    "        print(f'({x}, {y})')"
   ]
  },
  {
   "cell_type": "code",
   "execution_count": null,
   "metadata": {},
   "outputs": [],
   "source": [
    "# exerciece. write a code that prints out the letter below on the terminal using this numbers\n",
    "#  numbes = [ 5, 2, 5, 2, 2 ]\n",
    "\n",
    "xxxxx\n",
    "xx\n",
    "xxxxx\n",
    "xx\n",
    "xx"
   ]
  },
  {
   "cell_type": "code",
   "execution_count": 4,
   "metadata": {},
   "outputs": [
    {
     "name": "stdout",
     "output_type": "stream",
     "text": [
      "xxxxx\n",
      "xx\n",
      "xxxxx\n",
      "xx\n",
      "xx\n"
     ]
    }
   ],
   "source": [
    "# soln 1\n",
    "numbers = [ 5, 2, 5, 2, 2 ]\n",
    "for x_count in numbers:\n",
    "    print('x' * x_count)\n"
   ]
  },
  {
   "cell_type": "code",
   "execution_count": 6,
   "metadata": {},
   "outputs": [
    {
     "name": "stdout",
     "output_type": "stream",
     "text": [
      "xxxxx\n",
      "xx\n",
      "xxxxx\n",
      "xx\n",
      "xx\n"
     ]
    }
   ],
   "source": [
    "# soln 2\n",
    "numbers = [ 5, 2, 5, 2, 2 ]\n",
    "for x_count in numbers:\n",
    "    output = ''\n",
    "    for count in range(x_count):\n",
    "        output+= 'x'\n",
    "    print(output)"
   ]
  },
  {
   "cell_type": "code",
   "execution_count": 2,
   "metadata": {},
   "outputs": [
    {
     "name": "stdout",
     "output_type": "stream",
     "text": [
      "[5, 2, 1, 7, 4, 20]\n"
     ]
    }
   ],
   "source": [
    "# LIST METHODS or LIST FUNCTIONS\n",
    "# these are the operators that we can perform in a list\n",
    "# to see the alternative to functions , type the funtion name with a dot infront of it to see alvailable ways it can be used\n",
    "# we using  append here\n",
    "numbers = [5, 2, 1, 7, 4]\n",
    "numbers.append(20)\n",
    "print(numbers)\n"
   ]
  },
  {
   "cell_type": "code",
   "execution_count": 8,
   "metadata": {},
   "outputs": [
    {
     "name": "stdout",
     "output_type": "stream",
     "text": [
      "[10, 5, 2, 1, 7, 4]\n",
      "[]\n",
      "None\n",
      "None\n",
      "[1, 2, 4, 5, 7]\n"
     ]
    }
   ],
   "source": [
    "# using insert here\n",
    "numbers = [5, 2, 1, 7, 4]\n",
    "numbers.insert(0, 10)\n",
    "print(numbers)\n",
    "\n",
    "# using clear here\n",
    "numbers = [5, 2, 1, 7, 4]\n",
    "numbers.clear()\n",
    "print(numbers)\n",
    "\n",
    "# using sort\n",
    "# none is an object in python that represents the absence of a value\n",
    "numbers = [5, 2, 1, 7, 4]\n",
    "print(numbers.sort ())\n",
    "#sort in reverse\n",
    "numbers = [5, 2, 1, 7, 4]\n",
    "print(numbers.sort ())\n",
    "numbers.reverse()\n",
    "print(numbers)\n",
    "\n"
   ]
  },
  {
   "cell_type": "code",
   "execution_count": 17,
   "metadata": {},
   "outputs": [
    {
     "name": "stdout",
     "output_type": "stream",
     "text": [
      "[2, 3, 4, 5, 6, 8, 9]\n"
     ]
    }
   ],
   "source": [
    "# exercice. write a program to remove the duplicate in a list\n",
    "numbers = [2, 2, 3, 4, 5, 6, 5, 8, 9]\n",
    "unique_numbers = []\n",
    "for num in numbers:\n",
    "    if num not in unique_numbers:\n",
    "        unique_numbers.append(num)\n",
    "print(unique_numbers)"
   ]
  },
  {
   "cell_type": "code",
   "execution_count": 18,
   "metadata": {},
   "outputs": [
    {
     "name": "stdout",
     "output_type": "stream",
     "text": [
      "1\n"
     ]
    }
   ],
   "source": [
    "# Tuples\n",
    "# they are similar to list but cannot be modified\n",
    "# They are used to store values and are immutable\n",
    "# we use square brackets \"[]\" to define list and parenthesis \"()\" to define tuples\n",
    "\n",
    "numbers = (1, 2, 3)\n",
    "print(numbers[0])\n",
    "# but if you try to change any item on this list, you will get an error"
   ]
  },
  {
   "cell_type": "code",
   "execution_count": 19,
   "metadata": {},
   "outputs": [
    {
     "name": "stdout",
     "output_type": "stream",
     "text": [
      "1\n"
     ]
    }
   ],
   "source": [
    "# UNPACKING\n",
    "# thsi helps us to define values like x, y, z and store to them in a tuple.\n",
    "coordinates = (1, 2, 3)\n",
    "x, y, z = coordinates\n",
    "print(x)\n"
   ]
  },
  {
   "cell_type": "code",
   "execution_count": 23,
   "metadata": {},
   "outputs": [
    {
     "name": "stdout",
     "output_type": "stream",
     "text": [
      "kendu\n"
     ]
    }
   ],
   "source": [
    "# Dictionaries\n",
    "# used to store informations that comes as key_value pairs\n",
    "\n",
    "customer = {\n",
    "    \"name\": \"kendu\",\n",
    "    \"age\": 30,\n",
    "    \"is_verified\": True\n",
    "}\n",
    "print(customer.get(\"name\"))"
   ]
  },
  {
   "cell_type": "code",
   "execution_count": 24,
   "metadata": {},
   "outputs": [
    {
     "name": "stdout",
     "output_type": "stream",
     "text": [
      "Phone number in words: one two three\n"
     ]
    }
   ],
   "source": [
    "# exercice, write a program that ask for phone number and when entered, it translates it to word .say , when you enter 1234 it replies with one, two, three, four\n",
    "# soln\n",
    "\n",
    "number_to_word = {\n",
    "    '0': 'zero',\n",
    "    '1': 'one',\n",
    "    '2': 'two',\n",
    "    '3': 'three'\n",
    "}\n",
    "\n",
    "phone_number = input(\"Please enter a phone number: \")\n",
    "\n",
    "# Iterate through each character in the phone number and translate it to a word\n",
    "words = [number_to_word[digit] for digit in phone_number]\n",
    "\n",
    "# Print out the resulting words\n",
    "print(\"Phone number in words:\", ' '.join(words))\n"
   ]
  },
  {
   "cell_type": "code",
   "execution_count": 27,
   "metadata": {},
   "outputs": [
    {
     "name": "stdout",
     "output_type": "stream",
     "text": [
      "start\n",
      "hi there!\n",
      "welcome aboard\n",
      "finish\n"
     ]
    }
   ],
   "source": [
    "# defining our functions in a reusable manner\n",
    "# Always use meaningful and descriptive names for your functions\n",
    "# whenever we are using colon \":\" at the end of a line, it means we are defining a block of code\n",
    "# whenever we define a function, we need to add two line breack after.\n",
    "def greet_user():\n",
    "    print('hi there!')\n",
    "    print('welcome aboard')\n",
    "\n",
    "\n",
    "print(\"start\")\n",
    "greet_user()\n",
    "print(\"finish\")"
   ]
  },
  {
   "cell_type": "code",
   "execution_count": 31,
   "metadata": {},
   "outputs": [
    {
     "name": "stdout",
     "output_type": "stream",
     "text": [
      "start\n",
      "hi John\n",
      "welcome aboard\n",
      "hi Mary\n",
      "welcome aboard\n",
      "finish\n"
     ]
    }
   ],
   "source": [
    "# Parameters\n",
    "# parameters are place holders for receiving information(used to receive information in a function)\n",
    "# arguments are the actual pieces of information that we supply to a function\n",
    "# in the example below, john will act as a local variable define in the fuction\n",
    "# argument is the value that we supply to a function\n",
    "\n",
    "def greet_user(name):\n",
    "    print(f'hi {name}')\n",
    "    print('welcome aboard')\n",
    "\n",
    "\n",
    "print(\"start\")\n",
    "greet_user(\"John\")\n",
    "greet_user(\"Mary\")\n",
    "print(\"finish\")"
   ]
  },
  {
   "cell_type": "code",
   "execution_count": 36,
   "metadata": {},
   "outputs": [
    {
     "name": "stdout",
     "output_type": "stream",
     "text": [
      "start\n",
      "hi John, smith\n",
      "welcome aboard\n",
      "finish\n"
     ]
    }
   ],
   "source": [
    "# here, we are defining multiple parameters\n",
    "def greet_user(first_name, last_name):\n",
    "    print(f'hi {first_name}, {last_name}')\n",
    "    print('welcome aboard')\n",
    "\n",
    "\n",
    "print(\"start\")\n",
    "greet_user(\"John\", \"smith\")\n",
    "print(\"finish\")"
   ]
  },
  {
   "cell_type": "code",
   "execution_count": 15,
   "metadata": {},
   "outputs": [
    {
     "name": "stdout",
     "output_type": "stream",
     "text": [
      "start\n",
      "hi john, smith\n",
      "welcome aboard\n",
      "finish\n"
     ]
    }
   ],
   "source": [
    "# Key arguments\n",
    "# with keyword arguments, the position of arguments doesnt matter.\n",
    "#its used to improve the readibility of code and should always come after positional arguments.\n",
    "def greet_user(first_name, last_name):\n",
    "    print(f'hi {first_name}, {last_name}')\n",
    "    print('welcome aboard')\n",
    "\n",
    "\n",
    "print(\"start\")\n",
    "greet_user(last_name=\"smith\", first_name=\"john\")\n",
    "print(\"finish\")"
   ]
  },
  {
   "cell_type": "code",
   "execution_count": 17,
   "metadata": {},
   "outputs": [
    {
     "name": "stdout",
     "output_type": "stream",
     "text": [
      "16\n"
     ]
    }
   ],
   "source": [
    "# RETURN STATEMENT\n",
    "# its way of creating functions that return values\n",
    "### none is an object that returns the absence of a value\n",
    "def square(number):\n",
    "    return number * number\n",
    "print(square(4))"
   ]
  },
  {
   "cell_type": "code",
   "execution_count": null,
   "metadata": {},
   "outputs": [],
   "source": [
    "# CREATING A REUSABLE FUNCTION\n"
   ]
  }
 ],
 "metadata": {
  "kernelspec": {
   "display_name": "Python 3",
   "language": "python",
   "name": "python3"
  },
  "language_info": {
   "codemirror_mode": {
    "name": "ipython",
    "version": 3
   },
   "file_extension": ".py",
   "mimetype": "text/x-python",
   "name": "python",
   "nbconvert_exporter": "python",
   "pygments_lexer": "ipython3",
   "version": "3.10.6"
  },
  "orig_nbformat": 4,
  "vscode": {
   "interpreter": {
    "hash": "e7370f93d1d0cde622a1f8e1c04877d8463912d04d973331ad4851f04de6915a"
   }
  }
 },
 "nbformat": 4,
 "nbformat_minor": 2
}
