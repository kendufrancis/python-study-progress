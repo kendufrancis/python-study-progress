{
 "cells": [
  {
   "attachments": {},
   "cell_type": "markdown",
   "metadata": {},
   "source": [
    "## Types of Errors in Programming\n",
    "\n",
    "- Syntax Error\n",
    "- Runtime Error\n",
    "  Logic Error\n",
    "\n",
    "## Syntax Error\n",
    "\n",
    "I\n",
    "\n",
    "- A syntax error is an error in the syntax of a program. you did not follow the rules of the language. \\* Syntax errors are usually caused by a typo.\n",
    "\n",
    "## Runtime Error\n",
    "\n",
    "- A runtime error is an error that occurs during the execution of a program.\n",
    "  Runtime errors are usually caused by a bug in the program.\n",
    "\n",
    "## Logic Error\n",
    "\n",
    "- A logic error is an error in the logic of a program.\n",
    "  Logic errors are usually caused by a mistake in the program. You did not think things through.\n",
    "  A logic error is a mistake in the program that causes the program to behave in an unexpected way. loggical errors are very difficult to find and fix.\n",
    "\n",
    "## Python Syntax\n",
    "\n",
    "- Each line in a Python script is a statement.\n",
    "  A statement is a line of code that does something.\n",
    "  Use backslash character to join a statement span over multiple lines, as shown below\n"
   ]
  },
  {
   "cell_type": "code",
   "execution_count": 33,
   "metadata": {},
   "outputs": [
    {
     "ename": "SyntaxError",
     "evalue": "invalid syntax (3725545089.py, line 2)",
     "output_type": "error",
     "traceback": [
      "\u001b[0;36m  Cell \u001b[0;32mIn[33], line 2\u001b[0;36m\u001b[0m\n\u001b[0;31m    > backslash in python is an escape character\u001b[0m\n\u001b[0m    ^\u001b[0m\n\u001b[0;31mSyntaxError\u001b[0m\u001b[0;31m:\u001b[0m invalid syntax\n"
     ]
    }
   ],
   "source": [
    "# NB's\n",
    "> backslash(\\) in python is an escape character\n",
    "> backslash(\\\") with double quote is an escape sequence\n",
    "> if you want to add a backward slash in a line. use \\\\\n",
    "> to start a new line, use \\n\n",
    "\n",
    "instead of: name = firt \"\" + last, use: name = f\"{first} {last}\"\n",
    "\n",
    "in python, any bolean value that cannot be considered true or false is called a falsy value\n",
    "example include : \"\", None,  0\n",
    "\n",
    "ord is used to get the numerical representatations of characters\n",
    "eg: ord(\"a\") = 97  while ord(\"A\") = 65  so the expresseion a > A  = True\n"
   ]
  },
  {
   "cell_type": "code",
   "execution_count": 40,
   "metadata": {},
   "outputs": [
    {
     "ename": "TypeError",
     "evalue": "ord() expected a character, but string of length 3 found",
     "output_type": "error",
     "traceback": [
      "\u001b[0;31m---------------------------------------------------------------------------\u001b[0m",
      "\u001b[0;31mTypeError\u001b[0m                                 Traceback (most recent call last)",
      "Cell \u001b[0;32mIn[40], line 1\u001b[0m\n\u001b[0;32m----> 1\u001b[0m \u001b[39mord\u001b[39;49m(\u001b[39m\"\u001b[39;49m\u001b[39mbag\u001b[39;49m\u001b[39m\"\u001b[39;49m)\n",
      "\u001b[0;31mTypeError\u001b[0m: ord() expected a character, but string of length 3 found"
     ]
    }
   ],
   "source": [
    "ord(\"bag\")"
   ]
  },
  {
   "cell_type": "code",
   "execution_count": null,
   "metadata": {},
   "outputs": [],
   "source": [
    "even_numbers = input(\"enter number\")\n",
    "while even_numbers != \"odd number\":\n",
    "    print(even_numbers)\n",
    "    print(\"we have \", even_numbers + \" \", \"in 10\")"
   ]
  },
  {
   "cell_type": "code",
   "execution_count": 42,
   "metadata": {},
   "outputs": [
    {
     "name": "stdout",
     "output_type": "stream",
     "text": [
      "15\n"
     ]
    }
   ],
   "source": [
    "def add(*numbers):\n",
    "    total = 0\n",
    "    for number in numbers:\n",
    "        total += number\n",
    "    return total\n",
    "\n",
    "print(add(1, 2, 3, 4, 5))"
   ]
  },
  {
   "cell_type": "code",
   "execution_count": 7,
   "metadata": {},
   "outputs": [
    {
     "name": "stdout",
     "output_type": "stream",
     "text": [
      "250\n"
     ]
    }
   ],
   "source": [
    "wage = 10\n",
    "rate = 25\n",
    "totalwage = 10*25\n",
    "print(totalwage)"
   ]
  },
  {
   "attachments": {},
   "cell_type": "markdown",
   "metadata": {},
   "source": [
    "age = input(\"what is your name\")\n",
    "print(\"age\")\n"
   ]
  },
  {
   "cell_type": "code",
   "execution_count": 8,
   "metadata": {},
   "outputs": [
    {
     "name": "stdout",
     "output_type": "stream",
     "text": [
      "   /|\n",
      "  / |\n",
      " /  |\n",
      "/___|\n"
     ]
    }
   ],
   "source": [
    "print(\"   /|\")\n",
    "print(\"  / |\")\n",
    "print(\" /  |\")\n",
    "print(\"/___|\")"
   ]
  },
  {
   "cell_type": "code",
   "execution_count": 9,
   "metadata": {},
   "outputs": [
    {
     "name": "stdout",
     "output_type": "stream",
     "text": [
      "kendu was originally called  francis,\n",
      "his real age is 10, \n",
      "he however also hates the name john, \n",
      "and for some reason he doesnt like the age 10\n"
     ]
    }
   ],
   "source": [
    "character_name = \"francis\"\n",
    "character_age = \"10\"\n",
    "print(\"kendu was originally called  \" + character_name + \",\")\n",
    "print (\"his real age is \" + character_age + \", \")\n",
    "character_name = \"john\"\n",
    "print(\"he however also hates the name \" + character_name + \", \")\n",
    "print(\"and for some reason he doesnt like the age 10\")"
   ]
  },
  {
   "cell_type": "code",
   "execution_count": 10,
   "metadata": {},
   "outputs": [
    {
     "name": "stdout",
     "output_type": "stream",
     "text": [
      "green kendu\n"
     ]
    }
   ],
   "source": [
    "phrase = \"green land\"\n",
    "print(phrase.replace(\"land\", \"kendu\"))"
   ]
  },
  {
   "cell_type": "code",
   "execution_count": 11,
   "metadata": {},
   "outputs": [
    {
     "name": "stdout",
     "output_type": "stream",
     "text": [
      "kendu francis naahnze\n"
     ]
    }
   ],
   "source": [
    "phrase = 'kendu francis naahnze'\n",
    "print(phrase) # replace kendu with tankalong\n"
   ]
  },
  {
   "cell_type": "code",
   "execution_count": 32,
   "metadata": {},
   "outputs": [
    {
     "name": "stdout",
     "output_type": "stream",
     "text": [
      "hello world\n"
     ]
    }
   ],
   "source": [
    "print(\"hello world\")\n",
    "\n",
    "x = 1"
   ]
  },
  {
   "cell_type": "code",
   "execution_count": 30,
   "metadata": {},
   "outputs": [
    {
     "name": "stdout",
     "output_type": "stream",
     "text": [
      "8.0\n"
     ]
    }
   ],
   "source": [
    "# NB\" the input() function in Python always returns a string, even if the user inputs a number.\n",
    "# so, you need to convert the input strings to numbers using the int() or float() function,\n",
    "# depending on whether you want to work with integers or floating-point numbers.\n",
    "first = float(input(\"enter first number\"))\n",
    "second = float(input(\"enter second number\"))\n",
    "sum = first + second\n",
    "print(sum)"
   ]
  },
  {
   "cell_type": "code",
   "execution_count": 12,
   "metadata": {},
   "outputs": [
    {
     "name": "stdout",
     "output_type": "stream",
     "text": [
      "tankalong francis naahnze\n"
     ]
    }
   ],
   "source": [
    "phrase = 'kendu francis naahnze'\n",
    "print(phrase.replace('kendu', 'tankalong'))"
   ]
  },
  {
   "cell_type": "code",
   "execution_count": 13,
   "metadata": {},
   "outputs": [
    {
     "name": "stdout",
     "output_type": "stream",
     "text": [
      "KENDU FRANCIS NAAHNZE\n"
     ]
    }
   ],
   "source": [
    "phrase = 'kendu francis naahnze'\n",
    "print('kendu francis naahnze'.upper())"
   ]
  },
  {
   "cell_type": "code",
   "execution_count": 63,
   "metadata": {},
   "outputs": [
    {
     "name": "stdout",
     "output_type": "stream",
     "text": [
      "<class 'dict'>\n",
      "<class 'dict'>\n"
     ]
    }
   ],
   "source": [
    "my_dict = {\"country\": \"cameroon\", \"worldcups\": 2}\n",
    "print(type(my_dict))\n",
    "my_country = dict(country=\"cameroon\", worldcups=2)\n",
    "print(type(my_country))"
   ]
  },
  {
   "cell_type": "code",
   "execution_count": null,
   "metadata": {},
   "outputs": [
    {
     "name": "stdout",
     "output_type": "stream",
     "text": [
      "20\n"
     ]
    }
   ],
   "source": [
    "my_str = str('20')\n",
    "print(my_str)"
   ]
  },
  {
   "cell_type": "code",
   "execution_count": null,
   "metadata": {},
   "outputs": [
    {
     "name": "stdout",
     "output_type": "stream",
     "text": [
      "2\n"
     ]
    }
   ],
   "source": [
    "my_int = int(2.5)\n",
    "print(my_int)"
   ]
  },
  {
   "cell_type": "code",
   "execution_count": null,
   "metadata": {},
   "outputs": [
    {
     "name": "stdout",
     "output_type": "stream",
     "text": [
      "33.0\n"
     ]
    }
   ],
   "source": [
    "my_float = float(33)\n",
    "print(my_float)"
   ]
  },
  {
   "cell_type": "code",
   "execution_count": null,
   "metadata": {},
   "outputs": [
    {
     "name": "stdout",
     "output_type": "stream",
     "text": [
      "20.5\n",
      "<class 'float'>\n"
     ]
    }
   ],
   "source": [
    "my_int = 10\n",
    "my_float = 10.5\n",
    "my_sum = my_int + my_float\n",
    "print(my_sum)\n",
    "print(type(my_sum))"
   ]
  },
  {
   "cell_type": "code",
   "execution_count": null,
   "metadata": {},
   "outputs": [
    {
     "name": "stdout",
     "output_type": "stream",
     "text": [
      "10.0\n"
     ]
    }
   ],
   "source": [
    "my_float = float(10)\n",
    "print(my_float)"
   ]
  },
  {
   "cell_type": "code",
   "execution_count": null,
   "metadata": {},
   "outputs": [
    {
     "name": "stdout",
     "output_type": "stream",
     "text": [
      "brazil\n"
     ]
    }
   ],
   "source": [
    "country = input('what is your country') # user input brazil\n",
    "print(country)"
   ]
  },
  {
   "cell_type": "code",
   "execution_count": null,
   "metadata": {},
   "outputs": [
    {
     "name": "stdout",
     "output_type": "stream",
     "text": [
      "kendu francis\n"
     ]
    }
   ],
   "source": [
    "name = input('what is your name') # input kendu francis\n",
    "print(name)"
   ]
  },
  {
   "cell_type": "code",
   "execution_count": null,
   "metadata": {},
   "outputs": [
    {
     "name": "stdout",
     "output_type": "stream",
     "text": [
      "<class 'str'>\n",
      "10\n"
     ]
    }
   ],
   "source": [
    "age = input('what is your age') # input age as 10\n",
    "print(type(age))\n",
    "print(int(age))"
   ]
  },
  {
   "cell_type": "code",
   "execution_count": null,
   "metadata": {},
   "outputs": [
    {
     "name": "stdout",
     "output_type": "stream",
     "text": [
      "addition: 10\n",
      "subtraction: 2\n",
      "multiplication: 15\n",
      "division: 3.3333333333333335\n",
      "division 3\n",
      "modulus: 1\n"
     ]
    }
   ],
   "source": [
    "# Arithemetic operations\n",
    "# intergers = whole numbers without decimal\n",
    "# flaoting point mumbers = numbers with points\n",
    "#\n",
    "print('addition:', 5 + 5)\n",
    "print('subtraction:', 5 - 3)\n",
    "print('multiplication:', 3 * 5)\n",
    "print('division:', 10 / 3)\n",
    "print('division', 10 // 3) # division to get an interger or rounding down or up\n",
    "print('modulus:', 10 % 3) # to show the remainder of the division\n",
    "print('exponent:', 10 ** 3) # for double multiplication"
   ]
  },
  {
   "cell_type": "code",
   "execution_count": null,
   "metadata": {},
   "outputs": [
    {
     "name": "stdout",
     "output_type": "stream",
     "text": [
      "i am 10 years old\n"
     ]
    }
   ],
   "source": [
    "\n",
    "age = 'i am '     +    str(10)    +      ' years old'\n",
    "print(age)"
   ]
  },
  {
   "cell_type": "code",
   "execution_count": null,
   "metadata": {},
   "outputs": [
    {
     "name": "stdout",
     "output_type": "stream",
     "text": [
      "True\n"
     ]
    }
   ],
   "source": [
    "number_list =  [1,2,3,4,5,]\n",
    "print( 1 in number_list)"
   ]
  },
  {
   "cell_type": "code",
   "execution_count": null,
   "metadata": {},
   "outputs": [
    {
     "name": "stdout",
     "output_type": "stream",
     "text": [
      "hello world\n"
     ]
    }
   ],
   "source": []
  },
  {
   "cell_type": "code",
   "execution_count": 6,
   "metadata": {},
   "outputs": [
    {
     "name": "stdout",
     "output_type": "stream",
     "text": [
      "kendu\n"
     ]
    }
   ],
   "source": [
    "name = 'kendu'\n",
    "print(name)"
   ]
  },
  {
   "cell_type": "code",
   "execution_count": 18,
   "metadata": {},
   "outputs": [],
   "source": [
    " # we check in a patient named john smith. he is 20 years old and is a new patient\n",
    "patient_name = 'john smith'\n",
    "age = 20\n",
    "is_new = True"
   ]
  },
  {
   "cell_type": "code",
   "execution_count": 12,
   "metadata": {},
   "outputs": [
    {
     "name": "stdout",
     "output_type": "stream",
     "text": [
      " hi kendu\n"
     ]
    }
   ],
   "source": [
    "# a program that doenst take any input in pyton is called a deaf program\n",
    "name = input('what is your name ?')\n",
    "print( ' hi ' + name)"
   ]
  },
  {
   "cell_type": "code",
   "execution_count": 21,
   "metadata": {},
   "outputs": [
    {
     "name": "stdout",
     "output_type": "stream",
     "text": [
      "kendu likes, blue\n"
     ]
    }
   ],
   "source": [
    "# Ask two questions: persons's name and favourite color. Then, print a message like 'kendu likes blue'\n",
    "name = input('what is your name ')\n",
    "favorite_color = input('what is your favourite colour')\n",
    "print( name + ' likes, ' + favorite_color )"
   ]
  },
  {
   "cell_type": "code",
   "execution_count": 22,
   "metadata": {},
   "outputs": [
    {
     "name": "stdout",
     "output_type": "stream",
     "text": [
      "30\n"
     ]
    }
   ],
   "source": [
    "# build a program that ask the year your were born, calculate your age and print it on the terminal.\n",
    "### you cannot add string to an interger,so we use the \"int\" function to convert a string to an interger.\n",
    "#### we equally have flaot for converting a string to a float or a decimal to an interger\n",
    "\n",
    "birth_year = input('birth year:' )\n",
    "age = 2023 - int(birth_year)\n",
    "print(age)"
   ]
  },
  {
   "cell_type": "code",
   "execution_count": 25,
   "metadata": {},
   "outputs": [
    {
     "name": "stdout",
     "output_type": "stream",
     "text": [
      "14.85\n"
     ]
    }
   ],
   "source": [
    "# Ask a user their weight (in pounds), convert it to kilograms and print on the terminal.\n",
    "weight_lbs = input(\" weight (lbs)\" )\n",
    "weight_kg = int(weight_lbs) * 0.45\n",
    "print(weight_kg)"
   ]
  },
  {
   "cell_type": "code",
   "execution_count": 28,
   "metadata": {},
   "outputs": [
    {
     "name": "stdout",
     "output_type": "stream",
     "text": [
      "python's course for beginners\n",
      "python course for \"beginners\"\n"
     ]
    }
   ],
   "source": [
    "# working with single,multiple and tripple codes\n",
    "## python's course for beginners  will be written as>\n",
    "course = \"python's course for beginners\" \n",
    "print(course)\n",
    "course = 'python course for \"beginners\"'\n",
    "print(course)\n"
   ]
  },
  {
   "cell_type": "code",
   "execution_count": 41,
   "metadata": {},
   "outputs": [
    {
     "name": "stdout",
     "output_type": "stream",
     "text": [
      "p\n",
      "s\n",
      "pyth\n"
     ]
    }
   ],
   "source": [
    "# indexing in python starts with 0,1,2,3,4,.....\n",
    "course = \"python for beginners\"\n",
    "print(course[0])\n",
    "print(course[-1])\n",
    "print(course[0:4]) # list the characters from 0 to 4"
   ]
  },
  {
   "cell_type": "code",
   "execution_count": 42,
   "metadata": {},
   "outputs": [
    {
     "name": "stdout",
     "output_type": "stream",
     "text": [
      "ennife\n"
     ]
    }
   ],
   "source": [
    "# define a variable called name and set it to jennifer.  tell what we are going to see on the terminal with running the program\n",
    "name = 'jennifer'\n",
    "print(name[1:-1])"
   ]
  },
  {
   "cell_type": "code",
   "execution_count": 51,
   "metadata": {},
   "outputs": [
    {
     "name": "stdout",
     "output_type": "stream",
     "text": [
      "kendu [francis] is a coder\n",
      "kendu [francis] is a coder\n"
     ]
    }
   ],
   "source": [
    "#  writings sentence{s that includes putting some special characters\n",
    "## write the sentence> kendu [francis] is a coder\n",
    "first_name   = 'kendu'\n",
    "last_name =  'francis'\n",
    "message = first_name + ' [' + last_name + '] is a coder' # option 1 and not a good approach\n",
    "msg = f'{first_name} [{last_name}] is a coder' # option 2,best approach (thsi is a called a formatted string)\n",
    "print( message)\n",
    "print(msg)"
   ]
  },
  {
   "cell_type": "code",
   "execution_count": 61,
   "metadata": {},
   "outputs": [
    {
     "name": "stdout",
     "output_type": "stream",
     "text": [
      "20\n",
      "PYTHON FOR BEGINNERS\n",
      "0\n",
      "9\n",
      "python for absolute beginners\n",
      "True\n",
      "False\n"
     ]
    }
   ],
   "source": [
    "# calculatting the number is characters in a sentence using the build-in functions ' len '. the function is also used to enforce a limit in a sentence,characters, ... .. its a general purpose function and could be used to count the number of itmens in a list\n",
    "course = 'python for beginners'\n",
    "print(len(course))\n",
    "# to see all the functions specific to string,we use the dot (.) operator. e.g. 'course.' since they are specific, they are equally called methods\n",
    "print(course.upper())\n",
    "print(course.find('p'))\n",
    "print(course.find('r'))\n",
    "print(course.replace('beginners', 'absolute beginners'))\n",
    "# we can equally use the 'in' function to fine the existience of a word in a sentence. its equally a boolean expression because it produces a value True or False.\n",
    "print('python' in course)\n",
    "print('PYTHON' in course)\n"
   ]
  },
  {
   "cell_type": "code",
   "execution_count": 66,
   "metadata": {},
   "outputs": [
    {
     "name": "stdout",
     "output_type": "stream",
     "text": [
      "addition: 10\n",
      "subtraction: 2\n",
      "multiplication: 15\n",
      "division: 3.3333333333333335\n",
      "division 3\n",
      "modulus: 1\n",
      "exponent: 1000\n",
      "30\n",
      "2\n"
     ]
    }
   ],
   "source": []
  },
  {
   "cell_type": "code",
   "execution_count": null,
   "metadata": {},
   "outputs": [],
   "source": [
    "# Arithemetic operations\n",
    "# intergers = whole numbers without decimal\n",
    "# flaoting point mumbers = numbers with points\n",
    "#\n",
    "print('addition:', 5 + 5)\n",
    "print('subtraction:', 5 - 3)\n",
    "print('multiplication:', 3 * 5)\n",
    "print('division:', 10 / 3) \n",
    "print('division', 10 // 3) # division to get an interger or rounding down or up\n",
    "print('modulus:', 10 % 3) # to show the remainder of the division , here, you are interested in the remainder.\n",
    "print('exponent:', 10 ** 3) # for double multiplication (exponential)\n",
    "# we equally have the augmented or assignemet operator\n",
    "x = 10\n",
    "x = x * 3\n",
    "y = 3\n",
    "y -= 1\n",
    "print(x)\n",
    "print(y)"
   ]
  },
  {
   "cell_type": "code",
   "execution_count": 9,
   "metadata": {},
   "outputs": [
    {
     "name": "stdout",
     "output_type": "stream",
     "text": [
      "250\n"
     ]
    }
   ],
   "source": [
    "# exercise. \n",
    "# write a program that calculates the wages of a person. make sure to use variables to store the values.\n",
    "# pay rate is $10/hr , hours worked is 25\n",
    "#  solution\n",
    "hourly_wage = 10\n",
    "hours_worked = 25\n",
    "total_wage = hourly_wage * hours_worked\n",
    "print(total_wage)\n",
    "\n"
   ]
  },
  {
   "cell_type": "code",
   "execution_count": 69,
   "metadata": {},
   "outputs": [
    {
     "name": "stdout",
     "output_type": "stream",
     "text": [
      "16\n",
      "47\n"
     ]
    }
   ],
   "source": [
    "# Operator precedence\n",
    "# show the operators that will be executed in an operation befor the others.\n",
    "x = 10 + 3 * 2 # here multiplacation is first executed\n",
    "print(x)\n",
    "# the  order of value is as follows\n",
    "#parenthesis\n",
    "#exponentiation 2 ** 2\n",
    "#multiplication or division \n",
    "#addition or subtraction \n",
    "\n",
    "x = (2 + 3) * 10 - 3\n",
    "print(x)\n",
    "\n",
    "\n"
   ]
  },
  {
   "cell_type": "code",
   "execution_count": 71,
   "metadata": {},
   "outputs": [
    {
     "name": "stdout",
     "output_type": "stream",
     "text": [
      "10\n",
      "2.9\n"
     ]
    }
   ],
   "source": [
    "# ROUND FUNCTIONS. \n",
    "# abs functions equally give an absolute/positive value\n",
    "x = 9.99\n",
    "print(round(x))\n",
    "print(abs(-2.9))\n",
    "# all mathematical appliations always use modules for calculations, modules is a bunch of reusable functions\n",
    "# 'math.' will give you all the reusable functions, python3 modules are differnt from python3 modules and you will have to refer the python documentation for guidance\n"
   ]
  },
  {
   "cell_type": "code",
   "execution_count": 79,
   "metadata": {},
   "outputs": [
    {
     "name": "stdout",
     "output_type": "stream",
     "text": [
      "equal: False\n",
      "not equal: False\n",
      "greater than: True\n",
      "lessthan: False\n",
      "greater than or equal: True\n",
      "lessthan or equal to: True\n",
      "it's a lovely day\n"
     ]
    }
   ],
   "source": [
    "# COMPARISON OPERATORS\n",
    "#  'if ' statements. they are contiditonal statements that decides what to do if a value is true or false\n",
    "print('equal:', 3 == 4)\n",
    "print('not equal:', 3 != 3)\n",
    "print('greater than:', 4 > 3)\n",
    "print('lessthan:', 3 < 2)\n",
    "print('greater than or equal:', 3 >= 3)\n",
    "print('lessthan or equal to:', 3 <= 3)\n",
    "# NOTE: \" = \" is use to assign values to variables and not to compare values.\n",
    "\n",
    "# let us implement the following statement\n",
    "# if it's hot \n",
    "#            its a hot day\n",
    "#            drink plenty of water\n",
    "# otherwise if its cold\n",
    "#              it's a cold day\n",
    "#              go to bed to avoid catching cold\n",
    "# otherwise\n",
    "#              its a lovely day\n",
    "is_hot = False\n",
    "is_cold = True\n",
    "if is_hot:\n",
    "    print(\"It's a hot day\")\n",
    "    print(\"Drinck plenty of water\")\n",
    "elif is_cold:\n",
    "    print(\"it's a lovely day\")\n",
    "else:\n",
    "    print(\"it's a cold day\")\n",
    "    print(\"go to bed to avoid catching cold\")\n",
    "\n"
   ]
  },
  {
   "cell_type": "code",
   "execution_count": 32,
   "metadata": {},
   "outputs": [
    {
     "name": "stdout",
     "output_type": "stream",
     "text": [
      "Your weekly pay is: $ 100.0\n"
     ]
    }
   ],
   "source": [
    "# exercice\n",
    "# Ask the  user for the nunber of horus they worked this week.\n",
    "# Ask the user for their hourly rate\n",
    "# Calculate their weekly pay\n",
    "# If the user worked morethan 40 hrs, calculate their overtime pay\n",
    "# Overtime pay is 1.5 times the hourly rate for the hours worked above 40\n",
    "# Print out their name and pay\n",
    "# NB: input() returns a string.\n",
    "#           solution\n",
    "\n",
    "# Ask the user for the number of hours they worked this week.\n",
    "weekly_hours = float(input(\"How many hours did you work this week? \"))\n",
    "\n",
    "# Ask the user for their hourly rate\n",
    "hourly_rate = float(input(\"What is your hourly rate? \"))\n",
    "\n",
    "# Calculate their weekly pay\n",
    "if weekly_hours <= 40:\n",
    "    weekly_pay = weekly_hours * hourly_rate\n",
    "else:\n",
    "    regular_pay = 40 * hourly_rate\n",
    "    overtime_pay = (weekly_hours - 40) * (hourly_rate * 1.5)\n",
    "    weekly_pay = regular_pay + overtime_pay\n",
    "\n",
    "# Print out their name and pay\n",
    "print(\"Your weekly pay is: $\", round(weekly_pay, 2)) # rounds their weekly pay down to two decimal places\n",
    "\n",
    "\n"
   ]
  },
  {
   "cell_type": "code",
   "execution_count": 81,
   "metadata": {},
   "outputs": [
    {
     "name": "stdout",
     "output_type": "stream",
     "text": [
      "he is kendu francis\n",
      "he's 30 years old and a new patient\n"
     ]
    }
   ],
   "source": [
    "# write an application for \" we check in a patient named kendu francis. he's 30 years old and is a new patient\"\n",
    "is_patient = True\n",
    "if is_patient:\n",
    "    print(\"he is kendu francis\")\n",
    "    print(\"he's 30 years old and a new patient\")\n",
    "else:\n",
    "    print( \"franthere is no new patient as kendu francis\")\n"
   ]
  },
  {
   "cell_type": "code",
   "execution_count": 83,
   "metadata": {},
   "outputs": [
    {
     "name": "stdout",
     "output_type": "stream",
     "text": [
      "down_payment: $100000.0\n"
     ]
    }
   ],
   "source": [
    "# write a program for this role and display the reqired the down payments :\n",
    "#        price of a house is $1m\n",
    "#       if buyer has good credit,\n",
    "#       they need to put doown 10%\n",
    "#       otherwise\n",
    "#       they need to put down 20%\n",
    "# print the down payment\n",
    "# SOLN,\n",
    "price = 1000000\n",
    "has_good_credit = True\n",
    "if has_good_credit:\n",
    "    down_payment  = 0.1 * price\n",
    "else:\n",
    "    down_payment = 0.2 * price\n",
    "print(f\"down_payment: ${down_payment}\")"
   ]
  },
  {
   "cell_type": "code",
   "execution_count": 34,
   "metadata": {},
   "outputs": [
    {
     "name": "stdout",
     "output_type": "stream",
     "text": [
      "The down payment is $100000.0\n"
     ]
    }
   ],
   "source": [
    "#    solution 2\n",
    "# Price of the house\n",
    "house_price = 1000000\n",
    "\n",
    "# Ask user if they have good credit\n",
    "credit = input(\"Do you have good credit? (yes or no) \")\n",
    "\n",
    "# Calculate the down payment\n",
    "if credit.lower() == \"yes\":\n",
    "    down_payment = house_price * 0.1\n",
    "else:\n",
    "    down_payment = house_price * 0.2\n",
    "\n",
    "# Print the down payment\n",
    "print(\"The down payment is $\" + str(down_payment))\n"
   ]
  },
  {
   "cell_type": "code",
   "execution_count": 84,
   "metadata": {},
   "outputs": [
    {
     "name": "stdout",
     "output_type": "stream",
     "text": [
      "eligible for loan\n"
     ]
    }
   ],
   "source": [
    "# LOGICAL OPERATORS. Used in conditions where we have multiple operators \n",
    "# eg. if applicant has high income AND good credit\n",
    "# eligible for loan\n",
    "# here, we use the logical \"AND\" operator to combine the two conditions\n",
    "# we equally use the \"or \" operator if one of the conditions is true\n",
    "\n",
    "has_high_income = True\n",
    "has_good_credit = True\n",
    "if has_high_income and has_good_credit:\n",
    "    print (\"eligible for loan\")"
   ]
  },
  {
   "cell_type": "code",
   "execution_count": 92,
   "metadata": {},
   "outputs": [
    {
     "name": "stdout",
     "output_type": "stream",
     "text": [
      "name looks good\n",
      "name must be at least 3 characters\n"
     ]
    }
   ],
   "source": [
    "# exercise:\n",
    "# if name is less than 3 characters long\n",
    "#      name must be at least 3 characters\n",
    "# otherwise , if its more than 50 characters long\n",
    "#      name can be a maximum of 50 characters\n",
    "# otherwise\n",
    "#      name looks good\n",
    "\n",
    "name_less_than_3_characters = False\n",
    "name_more_than_50_characters = False\n",
    "if name_less_than_3_characters:\n",
    "    print(\"name must be at least 3 characters\")\n",
    "elif name_more_than_50_characters:\n",
    "    print(\"name can be a maximum of 50 characters\")\n",
    "else:\n",
    "    print(\"name looks good\")\n",
    "\n",
    "    # correction\n",
    "\n",
    "name = \"x\"\n",
    "if len(name) < 3:\n",
    "    print(\"name must be at least 3 characters\")\n",
    "elif len(name) > 50:\n",
    "    print(\"name must be a maximum of 50 characters\")\n",
    "else:\n",
    "    print(\"name looks good\")\n",
    "\n"
   ]
  },
  {
   "cell_type": "code",
   "execution_count": 1,
   "metadata": {},
   "outputs": [
    {
     "name": "stdout",
     "output_type": "stream",
     "text": [
      "1\n",
      "2\n",
      "3\n",
      "4\n",
      "5\n",
      "done\n"
     ]
    }
   ],
   "source": [
    "# WHILE LOOPS\n",
    "# it's used to execute a block of code multiple times\n",
    "# used in building interactive programs and games\n",
    "# as long as a condition is true, code will be repeated and executed\n",
    "\n",
    "i = 1\n",
    "while i <= 5:\n",
    "    print(i)\n",
    "    i = i + 1\n",
    "print(\"done\")"
   ]
  },
  {
   "cell_type": "code",
   "execution_count": null,
   "metadata": {},
   "outputs": [],
   "source": [
    "# BITWISE OPERATORS\n",
    "# In computer programming, data is represented using binary numbers that consist of only two digits: 0 and 1. These digits are called \"bits\".\n",
    "# Bitwise operators are special operators that allow us to manipulate these binary numbers at the individual bit level.\n",
    "\n",
    "# The AND, OR, and XOR operators compare corresponding bits in two binary numbers and produce a new binary number based on the result of the comparison.\n",
    "# The NOT operator flips all the bits in a binary number, changing 0s to 1s and 1s to 0s.\n",
    "\n",
    "G8AND (&):\n",
    "0b1100 = 12 (decimal)  =  1 1 0 0 \n",
    "0b1010 = 10 (decimal)  =  1 0 1 0\n",
    "------------------------\n",
    "0b1000 =  8 (decimal)  =  1 0 0 0 # if all has 1\n",
    "\n",
    "OR (|):\n",
    "0b1100 = 12 (decimal)  =  1 1 0 0\n",
    "0b1010 = 10 (decimal)  =  1 0 1 0\n",
    "------------------------\n",
    "0b1110 = 14 (decimal)  =  1 1 1 0 # if one has 1\n",
    "\n",
    "XOR (^):\n",
    "0b1100 = 12 (decimal)  =  1 1 0 0\n",
    "0b1010 = 10 (decimal)  =  1 0 1 0\n",
    "------------------------\n",
    "0b0110 =  6 (decimal)  =  0 1 1 0  # if all has 1, we enter 0\n",
    "\n",
    "NOT (~):\n",
    "0b1100 = 12 (decimal)  =  1 1 0 0\n",
    "------------------------\n",
    "0b0011 =  3 (decimal)  =  0 0 1 1 # where there is 0, we enter 1 and viceversa\n",
    "\n",
    "Left shift (<<):\n",
    "0b1100 = 12 (decimal)  =  1 1 0 0\n",
    "------------------------\n",
    "0b110000 = 48 (decimal)  =  1 1 0 0 0 0 # This effectively multiplies the number by 2 to the power of the shift amount.\n",
    "\n",
    "Right shift (>>)\n",
    "0b1100 = 12 (decimal)  =  1 1 0 0\n",
    "------------------------\n",
    "0b0011 =  3 (decimal)  =  0 0 1 1 # This effectively divides the number by 2 to the power of the shift amount.\n",
    "\n",
    "\n",
    "\n"
   ]
  },
  {
   "cell_type": "code",
   "execution_count": 15,
   "metadata": {},
   "outputs": [],
   "source": [
    "#SLICING\n",
    "Slicing in Python is a way to extract a subset of elements from a sequence (such as a list, tuple, or string) by specifying a range of indices. \n",
    "Slicing uses the : (colon) operator and has the following syntax:\n",
    "e,g:\n",
    "sequence[start:stop:step]\n",
    "\n",
    "where sequence is the sequence to be sliced, start is the starting index (inclusive), stop is the stopping index (exclusive), and step is the step size (optional, defaults to 1).\n",
    "\n",
    "Here are some examples of slicing in Python:\n",
    "\n",
    ">>> lst = [0, 1, 2, 3, 4, 5, 6, 7, 8, 9]\n",
    ">>> lst[2:6]  # slice from index 2 (inclusive) to index 6 (exclusive)\n",
    "[2, 3, 4, 5]\n",
    ">>> lst[:4]   # slice from beginning to index 4 (exclusive)\n",
    "[0, 1, 2, 3]\n",
    ">>> lst[6:]   # slice from index 6 (inclusive) to end\n",
    "[6, 7, 8, 9]\n",
    ">>> lst[1:8:2]  # slice from index 1 (inclusive) to index 8 (exclusive) with step size of 2\n",
    "[1, 3, 5, 7]\n",
    "\n",
    "\n",
    "\n"
   ]
  },
  {
   "cell_type": "code",
   "execution_count": 2,
   "metadata": {},
   "outputs": [
    {
     "name": "stdout",
     "output_type": "stream",
     "text": [
      "*\n",
      "**\n",
      "***\n",
      "****\n",
      "*****\n",
      "done\n"
     ]
    }
   ],
   "source": [
    "# WHILE LOOPS\n",
    "# it's used to execute a block of code multiple times\n",
    "# used in building interactive programs and games\n",
    "# as long as a condition is true, code will be repeated and executed\n",
    "\n",
    "i = 1\n",
    "while i <= 5:\n",
    "    print('*' * i) \n",
    "    i = i + 1\n",
    "print(\"done\")"
   ]
  },
  {
   "cell_type": "code",
   "execution_count": 28,
   "metadata": {},
   "outputs": [
    {
     "name": "stdout",
     "output_type": "stream",
     "text": [
      "YOU WON\n"
     ]
    }
   ],
   "source": [
    "# GUESS GAME.\n",
    "# here, we are using a while loop to build a guessing game\n",
    "# here, the while loop only gets termimated onlyu when Guest has been made three times\n",
    "secret_number = 9\n",
    "guess_count = 1\n",
    "guess_limit = 3\n",
    "while guess_count < guess_limit:\n",
    "    guess = int(input('guess: '))\n",
    "    guess_count += 1\n",
    "    if guess == secret_number:\n",
    "        print('YOU WON')"
   ]
  },
  {
   "cell_type": "code",
   "execution_count": 31,
   "metadata": {},
   "outputs": [
    {
     "name": "stdout",
     "output_type": "stream",
     "text": [
      "sorry, you fialed\n"
     ]
    }
   ],
   "source": [
    "# here we are addding a condition which terminates the while loop if guest is right.\n",
    "# we will use the \"break\" statement to terminate the loop\n",
    "# equally adds a fail statement if guess is not right\n",
    "secret_number = 9\n",
    "guess_count = 0\n",
    "guess_limit = 3\n",
    "while guess_count < guess_limit:\n",
    "    guess = int(input('guess: '))\n",
    "    guess_count += 1\n",
    "    if guess == secret_number:\n",
    "        print('YOU WON')\n",
    "        break\n",
    "else:\n",
    "    print('sorry, you fialed')"
   ]
  },
  {
   "cell_type": "code",
   "execution_count": 33,
   "metadata": {},
   "outputs": [
    {
     "name": "stdout",
     "output_type": "stream",
     "text": [
      "car started\n",
      "car stopped\n",
      "\n",
      "start - to start a car\n",
      "stop -  to stop a car\n",
      "quit  -  to exit\n",
      "\n",
      "i don't understand that ....\n"
     ]
    }
   ],
   "source": [
    "# exercise. we will be building a program that does the following\n",
    "# if you type \"help\", it will display\n",
    "#                 start - to start a car\n",
    "#                 stop -  to stop a car\n",
    "#                 quit  -  to exit\n",
    "# if you type anything like \" kendu, orp, .. .. \" it will display\n",
    "#                i don't understand that ....\n",
    "# if you type \"start\" , it will display\n",
    "#                car started ..... ready to go\n",
    "# if you type  \"stop\", it will display\n",
    "#               car stopped\n",
    "# and if you type \"quit\", the process is aborted\n",
    "\n",
    "                        #   SOLUTION\n",
    "command = \"\"    # this is an empty string because it does't have anything in it.capitalize\n",
    "while True:\n",
    "    command = input(\"> \"). lower() # to ensure all entries are converted to lower characters\n",
    "    if command == \"start\":\n",
    "        print(\"car started\")\n",
    "    elif command == \"stop\":\n",
    "        print(\"car stopped\")\n",
    "    elif command ==\"help\":\n",
    "        print(\"\"\"\n",
    "start - to start a car\n",
    "stop -  to stop a car\n",
    "quit  -  to exit\n",
    "\"\"\")\n",
    "    elif command == \"quit\":\n",
    "        break\n",
    "    else:\n",
    "        print(\"i don't understand that ....\")\n",
    "        \n",
    "\n"
   ]
  },
  {
   "cell_type": "code",
   "execution_count": 6,
   "metadata": {},
   "outputs": [
    {
     "name": "stdout",
     "output_type": "stream",
     "text": [
      "car stopped\n",
      "car already stopped\n",
      "car stopped\n"
     ]
    }
   ],
   "source": [
    "# here, we will modify the condition so much that if an entry is repeated, it will display a message showing that the action has already happenned\n",
    "\n",
    "                        #   SOLUTION\n",
    "command = \"\"    # this is an empty string because it does't have anything in it.capitalize\n",
    "started = False\n",
    "while True:\n",
    "    command = input(\"> \"). lower() # to ensure all entries are converted to lower characters\n",
    "    if command == \"start\":\n",
    "        if started:\n",
    "            print(\"car is already started\")\n",
    "        else:\n",
    "            started = True\n",
    "        print(\"car started\")\n",
    "    elif command == \"stop\":\n",
    "        print(\"car stopped\")\n",
    "        if not started:\n",
    "            print(\"car already stopped\")\n",
    "        else:\n",
    "            started = False\n",
    "        print(\"car stopped\")\n",
    "    elif command ==\"help\":\n",
    "        print(\"\"\"\n",
    "start - to start a car\n",
    "stop -  to stop a car\n",
    "quit  -  to exit\n",
    "\"\"\")\n",
    "    elif command == \"quit\":\n",
    "        break\n",
    "    else:\n",
    "        print(\"i don't understand that ....\")\n",
    "        \n",
    "\n"
   ]
  },
  {
   "cell_type": "code",
   "execution_count": 14,
   "metadata": {},
   "outputs": [
    {
     "name": "stdout",
     "output_type": "stream",
     "text": [
      "kendu\n",
      "francis\n",
      "naahnze\n",
      "0\n",
      "1\n",
      "2\n",
      "3\n",
      "4\n",
      "1\n",
      "3\n",
      "5\n",
      "7\n",
      "9\n"
     ]
    }
   ],
   "source": [
    "# FOR LOOPS\n",
    "# used to iterate over items of collection such as a string\n",
    "\n",
    "for item in ['kendu', 'francis', 'naahnze']:\n",
    "    print(item)\n",
    "\n",
    "# but if we want to interate over a long list of numbers, we use the \"RANGE\"\n",
    "\n",
    "for item in range(5):\n",
    "    print(item)\n",
    "\n",
    "# we can equally pas a step in the function like\n",
    "for item in range(1,10,2):\n",
    "    print(item)"
   ]
  },
  {
   "cell_type": "code",
   "execution_count": 18,
   "metadata": {},
   "outputs": [
    {
     "name": "stdout",
     "output_type": "stream",
     "text": [
      "total: 60\n"
     ]
    }
   ],
   "source": [
    "#EXERCICE\n",
    "# write a program to calculate the total cost of all the items on a shooping card given that >\n",
    "prices = [10,20,30] \n",
    "\n",
    "# sloution\n",
    "\n",
    "total = 0\n",
    "for price in prices:\n",
    "    total += price\n",
    "print(f\"total: {total}\")"
   ]
  },
  {
   "cell_type": "code",
   "execution_count": 1,
   "metadata": {},
   "outputs": [
    {
     "name": "stdout",
     "output_type": "stream",
     "text": [
      "0\n",
      "1\n",
      "2\n",
      "3\n"
     ]
    }
   ],
   "source": [
    "# NESTED LOOPS\n",
    "# this means adding one loop inside another loop\n",
    "\n",
    "for x in range(4):\n",
    "    print(x)"
   ]
  },
  {
   "cell_type": "code",
   "execution_count": 2,
   "metadata": {},
   "outputs": [
    {
     "name": "stdout",
     "output_type": "stream",
     "text": [
      "(0, 0)\n",
      "(0, 1)\n",
      "(0, 2)\n",
      "(1, 0)\n",
      "(1, 1)\n",
      "(1, 2)\n",
      "(2, 0)\n",
      "(2, 1)\n",
      "(2, 2)\n",
      "(3, 0)\n",
      "(3, 1)\n",
      "(3, 2)\n"
     ]
    }
   ],
   "source": [
    "for x in range(4):\n",
    "    for y in range (3):\n",
    "        print(f'({x}, {y})')"
   ]
  },
  {
   "cell_type": "code",
   "execution_count": null,
   "metadata": {},
   "outputs": [],
   "source": [
    "# exerciece. write a code that prints out the letter below on the terminal using this numbers\n",
    "#  numbes = [ 5, 2, 5, 2, 2 ]\n",
    "\n",
    "xxxxx\n",
    "xx\n",
    "xxxxx\n",
    "xx\n",
    "xx"
   ]
  },
  {
   "cell_type": "code",
   "execution_count": 4,
   "metadata": {},
   "outputs": [
    {
     "name": "stdout",
     "output_type": "stream",
     "text": [
      "xxxxx\n",
      "xx\n",
      "xxxxx\n",
      "xx\n",
      "xx\n"
     ]
    }
   ],
   "source": [
    "# soln 1\n",
    "numbers = [ 5, 2, 5, 2, 2 ]\n",
    "for x_count in numbers:\n",
    "    print('x' * x_count)\n"
   ]
  },
  {
   "cell_type": "code",
   "execution_count": 6,
   "metadata": {},
   "outputs": [
    {
     "name": "stdout",
     "output_type": "stream",
     "text": [
      "xxxxx\n",
      "xx\n",
      "xxxxx\n",
      "xx\n",
      "xx\n"
     ]
    }
   ],
   "source": [
    "# soln 2\n",
    "numbers = [ 5, 2, 5, 2, 2 ]\n",
    "for x_count in numbers:\n",
    "    output = ''\n",
    "    for count in range(x_count):\n",
    "        output+= 'x'\n",
    "    print(output)"
   ]
  },
  {
   "cell_type": "code",
   "execution_count": 2,
   "metadata": {},
   "outputs": [
    {
     "name": "stdout",
     "output_type": "stream",
     "text": [
      "[5, 2, 1, 7, 4, 20]\n"
     ]
    }
   ],
   "source": [
    "# LIST METHODS or LIST FUNCTIONS\n",
    "# these are the operators that we can perform in a list\n",
    "# to see the alternative to functions , type the funtion name with a dot infront of it to see alvailable ways it can be used\n",
    "# we using  append here\n",
    "numbers = [5, 2, 1, 7, 4]\n",
    "numbers.append(20)\n",
    "print(numbers)\n"
   ]
  },
  {
   "cell_type": "code",
   "execution_count": 8,
   "metadata": {},
   "outputs": [
    {
     "name": "stdout",
     "output_type": "stream",
     "text": [
      "[10, 5, 2, 1, 7, 4]\n",
      "[]\n",
      "None\n",
      "None\n",
      "[1, 2, 4, 5, 7]\n"
     ]
    }
   ],
   "source": [
    "# using insert here\n",
    "numbers = [5, 2, 1, 7, 4]\n",
    "numbers.insert(0, 10)\n",
    "print(numbers)\n",
    "\n",
    "# using clear here\n",
    "numbers = [5, 2, 1, 7, 4]\n",
    "numbers.clear()\n",
    "print(numbers)\n",
    "\n",
    "# using sort\n",
    "# none is an object in python that represents the absence of a value\n",
    "numbers = [5, 2, 1, 7, 4]\n",
    "print(numbers.sort ())\n",
    "#sort in reverse\n",
    "numbers = [5, 2, 1, 7, 4]\n",
    "print(numbers.sort ())\n",
    "numbers.reverse()\n",
    "print(numbers)\n",
    "\n"
   ]
  },
  {
   "cell_type": "code",
   "execution_count": 17,
   "metadata": {},
   "outputs": [
    {
     "name": "stdout",
     "output_type": "stream",
     "text": [
      "[2, 3, 4, 5, 6, 8, 9]\n"
     ]
    }
   ],
   "source": [
    "# exercice. write a program to remove the duplicate in a list\n",
    "numbers = [2, 2, 3, 4, 5, 6, 5, 8, 9]\n",
    "unique_numbers = []\n",
    "for num in numbers:\n",
    "    if num not in unique_numbers:\n",
    "        unique_numbers.append(num)\n",
    "print(unique_numbers)"
   ]
  },
  {
   "cell_type": "code",
   "execution_count": 18,
   "metadata": {},
   "outputs": [
    {
     "name": "stdout",
     "output_type": "stream",
     "text": [
      "1\n"
     ]
    }
   ],
   "source": [
    "# Tuples\n",
    "# they are similar to list but cannot be modified\n",
    "# They are used to store values and are immutable\n",
    "# we use square brackets \"[]\" to define list and parenthesis \"()\" to define tuples\n",
    "\n",
    "numbers = (1, 2, 3)\n",
    "print(numbers[0])\n",
    "# but if you try to change any item on this list, you will get an error"
   ]
  },
  {
   "cell_type": "code",
   "execution_count": 19,
   "metadata": {},
   "outputs": [
    {
     "name": "stdout",
     "output_type": "stream",
     "text": [
      "1\n"
     ]
    }
   ],
   "source": [
    "# UNPACKING\n",
    "# thsi helps us to define values like x, y, z and store to them in a tuple.\n",
    "coordinates = (1, 2, 3)\n",
    "x, y, z = coordinates\n",
    "print(x)\n"
   ]
  },
  {
   "cell_type": "code",
   "execution_count": 23,
   "metadata": {},
   "outputs": [
    {
     "name": "stdout",
     "output_type": "stream",
     "text": [
      "kendu\n"
     ]
    }
   ],
   "source": [
    "# Dictionaries\n",
    "# used to store informations that comes as key_value pairs\n",
    "\n",
    "customer = {\n",
    "    \"name\": \"kendu\",\n",
    "    \"age\": 30,\n",
    "    \"is_verified\": True\n",
    "}\n",
    "print(customer.get(\"name\"))"
   ]
  },
  {
   "cell_type": "code",
   "execution_count": 24,
   "metadata": {},
   "outputs": [
    {
     "name": "stdout",
     "output_type": "stream",
     "text": [
      "Phone number in words: one two three\n"
     ]
    }
   ],
   "source": [
    "# exercice, write a program that ask for phone number and when entered, it translates it to word .say , when you enter 1234 it replies with one, two, three, four\n",
    "# soln\n",
    "\n",
    "number_to_word = {\n",
    "    '0': 'zero',\n",
    "    '1': 'one',\n",
    "    '2': 'two',\n",
    "    '3': 'three'\n",
    "}\n",
    "\n",
    "phone_number = input(\"Please enter a phone number: \")\n",
    "\n",
    "# Iterate through each character in the phone number and translate it to a word\n",
    "words = [number_to_word[digit] for digit in phone_number]\n",
    "\n",
    "# Print out the resulting words\n",
    "print(\"Phone number in words:\", ' '.join(words))\n"
   ]
  },
  {
   "cell_type": "code",
   "execution_count": 27,
   "metadata": {},
   "outputs": [
    {
     "name": "stdout",
     "output_type": "stream",
     "text": [
      "start\n",
      "hi there!\n",
      "welcome aboard\n",
      "finish\n"
     ]
    }
   ],
   "source": [
    "# defining our functions in a reusable manner\n",
    "# Always use meaningful and descriptive names for your functions\n",
    "# whenever we are using colon \":\" at the end of a line, it means we are defining a block of code\n",
    "# whenever we define a function, we need to add two line breack after.\n",
    "def greet_user():\n",
    "    print('hi there!')\n",
    "    print('welcome aboard')\n",
    "\n",
    "\n",
    "print(\"start\")\n",
    "greet_user()\n",
    "print(\"finish\")"
   ]
  },
  {
   "cell_type": "code",
   "execution_count": 31,
   "metadata": {},
   "outputs": [
    {
     "name": "stdout",
     "output_type": "stream",
     "text": [
      "start\n",
      "hi John\n",
      "welcome aboard\n",
      "hi Mary\n",
      "welcome aboard\n",
      "finish\n"
     ]
    }
   ],
   "source": [
    "# Parameters\n",
    "# parameters are place holders for receiving information(used to receive information in a function)\n",
    "# arguments are the actual pieces of information that we supply to a function\n",
    "# in the example below, john will act as a local variable define in the fuction\n",
    "# argument is the value that we supply to a function\n",
    "\n",
    "def greet_user(name):\n",
    "    print(f'hi {name}')\n",
    "    print('welcome aboard')\n",
    "\n",
    "\n",
    "print(\"start\")\n",
    "greet_user(\"John\")\n",
    "greet_user(\"Mary\")\n",
    "print(\"finish\")"
   ]
  },
  {
   "cell_type": "code",
   "execution_count": 36,
   "metadata": {},
   "outputs": [
    {
     "name": "stdout",
     "output_type": "stream",
     "text": [
      "start\n",
      "hi John, smith\n",
      "welcome aboard\n",
      "finish\n"
     ]
    }
   ],
   "source": [
    "# here, we are defining multiple parameters\n",
    "def greet_user(first_name, last_name):\n",
    "    print(f'hi {first_name}, {last_name}')\n",
    "    print('welcome aboard')\n",
    "\n",
    "\n",
    "print(\"start\")\n",
    "greet_user(\"John\", \"smith\")\n",
    "print(\"finish\")"
   ]
  },
  {
   "cell_type": "code",
   "execution_count": 15,
   "metadata": {},
   "outputs": [
    {
     "name": "stdout",
     "output_type": "stream",
     "text": [
      "start\n",
      "hi john, smith\n",
      "welcome aboard\n",
      "finish\n"
     ]
    }
   ],
   "source": [
    "# Key arguments\n",
    "# with keyword arguments, the position of arguments doesnt matter.\n",
    "#its used to improve the readibility of code and should always come after positional arguments.\n",
    "def greet_user(first_name, last_name):\n",
    "    print(f'hi {first_name}, {last_name}')\n",
    "    print('welcome aboard')\n",
    "\n",
    "\n",
    "print(\"start\")\n",
    "greet_user(last_name=\"smith\", first_name=\"john\")\n",
    "print(\"finish\")"
   ]
  },
  {
   "cell_type": "code",
   "execution_count": 17,
   "metadata": {},
   "outputs": [
    {
     "name": "stdout",
     "output_type": "stream",
     "text": [
      "16\n"
     ]
    }
   ],
   "source": [
    "# RETURN STATEMENT\n",
    "# its way of creating functions that return values\n",
    "### none is an object that returns the absence of a value\n",
    "def square(number):\n",
    "    return number * number\n",
    "print(square(4))"
   ]
  },
  {
   "cell_type": "code",
   "execution_count": 5,
   "metadata": {},
   "outputs": [
    {
     "name": "stdout",
     "output_type": "stream",
     "text": [
      "Invalid Value\n"
     ]
    }
   ],
   "source": [
    "# EXCEPTIONS \n",
    "# here, we will learn how to handle errors in a python program\n",
    "# we will start by writing a small program to get a users age from the terminal\n",
    "# we will be using the \"try except\" to handle errors\n",
    "try:\n",
    "    age = int(input(\"age:\"))\n",
    "    print(age)\n",
    "except ValueError:\n",
    "    print(\"Invalid Value\")\n"
   ]
  },
  {
   "cell_type": "code",
   "execution_count": 6,
   "metadata": {},
   "outputs": [
    {
     "name": "stdout",
     "output_type": "stream",
     "text": [
      "age cannot be zero\n"
     ]
    }
   ],
   "source": [
    "try:\n",
    "    age = int(input(\"age:\"))\n",
    "    income = 2000\n",
    "    risk = income / age\n",
    "    print(age)\n",
    "except ZeroDivisionError:\n",
    "    print(\"age cannot be zero\")\n",
    "except ValueError:\n",
    "    print(\"Invalid Value\")\n"
   ]
  },
  {
   "cell_type": "code",
   "execution_count": null,
   "metadata": {},
   "outputs": [],
   "source": [
    "# COMMENTS\n",
    "# we use comments to add notes to our program\n",
    "# but you must avoid using comments to explain what a code does.\n",
    "# it should be used to explain whys' and hows' not what\n"
   ]
  },
  {
   "cell_type": "code",
   "execution_count": 10,
   "metadata": {},
   "outputs": [
    {
     "name": "stdout",
     "output_type": "stream",
     "text": [
      "10\n",
      "draw\n"
     ]
    }
   ],
   "source": [
    "# CLASSES\n",
    "# we use classes to define new types to modern real world concepts which might be different from nunbers, strings ,bolean, ..\n",
    "# here, we will be creating a new type called point which will comprise things like \"get_distance, ...\"\n",
    "# when naming classes, we dont use underscore to seperate words but rather capitalze them. this is the pascal naming convention\n",
    "\n",
    "\n",
    "class Point:          # we define a class and give it name, we equally define the method of the class\n",
    "    def move(self):\n",
    "        print(\"move\")\n",
    "\n",
    "    def draw(self):\n",
    "        print(\"draw\")\n",
    "\n",
    "\n",
    "point1 = Point()      # an object is an instance of a class\n",
    "point1.x = 10\n",
    "point1.y = 20\n",
    "print(point1.x)\n",
    "point1.draw()\n",
    "\n"
   ]
  },
  {
   "cell_type": "code",
   "execution_count": null,
   "metadata": {},
   "outputs": [],
   "source": [
    "# CONSTRUCTORS\n",
    "stop = 3.07.59"
   ]
  },
  {
   "cell_type": "code",
   "execution_count": null,
   "metadata": {},
   "outputs": [],
   "source": [
    "PRACTICE FROM COURSE (CODE WITH MOSH)"
   ]
  },
  {
   "cell_type": "code",
   "execution_count": 52,
   "metadata": {},
   "outputs": [
    {
     "name": "stdout",
     "output_type": "stream",
     "text": [
      "22\n"
     ]
    }
   ],
   "source": [
    "# In Python, the double-asterisk syntax ** is used to collect keyword arguments into a dictionary while,\n",
    "# the single-asterisk syntax * is used to collect positional arguments into a tuple. \n",
    "\n",
    "def key_value(**user_details):\n",
    "    print(user_details)\n",
    "    \n",
    "key_value(name = \"kendu\", age = \"22\", year = \"1111\")"
   ]
  },
  {
   "cell_type": "code",
   "execution_count": 63,
   "metadata": {},
   "outputs": [
    {
     "name": "stdout",
     "output_type": "stream",
     "text": [
      "e\n"
     ]
    }
   ],
   "source": [
    "# SCOPE : refers to the region of a program where a particular variable can be accessed or referenced\n",
    "def greet(name):\n",
    "    message = \"e\"\n",
    "    return message\n",
    "\n",
    "result = greet(\"kendu\")\n",
    "print(result)"
   ]
  },
  {
   "cell_type": "code",
   "execution_count": 11,
   "metadata": {},
   "outputs": [
    {
     "name": "stdout",
     "output_type": "stream",
     "text": [
      "1\n",
      "2\n",
      "fizz\n",
      "4\n",
      "buzz\n"
     ]
    }
   ],
   "source": [
    "# The FIZZ_BUZZ algorithm\n",
    "#  FizzBuzz algorithm is a simple programming problem that is often used as an exercise to teach basic programming concepts. \n",
    "# he problem requires that you write a program that prints the numbers from 1 to a given number (usually 100), but with some modifications:\n",
    "\n",
    "# If the number is divisible by 3, print \"Fizz\" instead of the number.\n",
    "# If the number is divisible by 5, print \"Buzz\" instead of the number.\n",
    "# If the number is divisible by both 3 and 5, print \"FizzBuzz\" instead of the number.\n",
    "#       its implemented as follows\n",
    "\n",
    "n = int(input())\n",
    "for i in range(1, n+1):\n",
    "    if i % 3 == 0 and i % 5 == 0:\n",
    "        print(\"fizz_buzz\")\n",
    "    elif i % 3 == 0:\n",
    "            print(\"fizz\")\n",
    "    elif i % 5 == 0:\n",
    "        print(\"buzz\")\n",
    "    else:\n",
    "        print(i)\n",
    "        \n",
    "    \n",
    "\n"
   ]
  },
  {
   "cell_type": "code",
   "execution_count": 15,
   "metadata": {},
   "outputs": [
    {
     "name": "stdout",
     "output_type": "stream",
     "text": [
      "2\n",
      "6\n"
     ]
    }
   ],
   "source": [
    "numbers = [1, 2, 3, 4, 5, 6]\n",
    "first, second, *rest, last = numbers\n",
    "print(second)\n",
    "print(last)"
   ]
  },
  {
   "cell_type": "code",
   "execution_count": 59,
   "metadata": {},
   "outputs": [
    {
     "name": "stdout",
     "output_type": "stream",
     "text": [
      "[('item1', 1), ('item3', 2), ('item2', 3)]\n"
     ]
    }
   ],
   "source": [
    "# sorting tuples(Each tuple in the list contains two elements, the first being a string and the second being an integer.)\n",
    "list = [\n",
    "(\"item1\", 1),\n",
    "(\"item2\", 3),\n",
    "(\"item3\", 2)\n",
    "]\n",
    "\n",
    "def sort_key(list):\n",
    "    return list[1]\n",
    "\n",
    "sorted_list = sorted(list, key=sort_key)\n",
    "print(sorted_list)"
   ]
  },
  {
   "cell_type": "code",
   "execution_count": 115,
   "metadata": {},
   "outputs": [
    {
     "name": "stdout",
     "output_type": "stream",
     "text": [
      "[1, 2, 3]\n",
      "3\n",
      "[1, 2]\n",
      "redirect 2\n",
      "2\n",
      "[1]\n",
      "1\n",
      "timmeout\n"
     ]
    }
   ],
   "source": [
    "# STACK. these are arguements that uses a LIFO behaviour(last_in-first_out)\n",
    "\n",
    "session_timeout = []\n",
    "session_timeout.append(1)\n",
    "session_timeout.append(2)\n",
    "session_timeout.append(3)\n",
    "print(session_timeout)\n",
    "last  = session_timeout.pop()\n",
    "print(last)\n",
    "print(session_timeout)\n",
    "print(\"redirect\",session_timeout[-1])\n",
    "last  = session_timeout.pop()\n",
    "print(last)\n",
    "print(session_timeout)\n",
    "last  = session_timeout.pop()\n",
    "print(last)\n",
    "if not session_timeout:\n",
    "    print(\"timmeout\")"
   ]
  },
  {
   "cell_type": "code",
   "execution_count": 122,
   "metadata": {},
   "outputs": [
    {
     "name": "stdout",
     "output_type": "stream",
     "text": [
      "deque([3, 2, 1])\n",
      "1\n",
      "3\n",
      "deque([2])\n",
      "2\n",
      "deque([])\n",
      "empty deque\n"
     ]
    }
   ],
   "source": [
    "# QUEUES. these are arguements that uses a FIFO behaviour(fist-in, first-out)\n",
    "# to effeciently remove elements from a list using fifo, we use the deque approach:\n",
    "# deque (pronounced \"deck\") is a Python built-in module that provides a double-ended queue data structure.\n",
    "# A deque is a list-like container that supports adding and removing elements from both ends efficiently.\n",
    "\n",
    "from collections import deque\n",
    "my_deque = deque()\n",
    "my_deque.append(1)\n",
    "my_deque.appendleft(2)\n",
    "my_deque.appendleft(3)\n",
    "print(my_deque)\n",
    "x = my_deque.pop()\n",
    "print(x)\n",
    "y = my_deque.popleft()\n",
    "print(y)\n",
    "print(my_deque)\n",
    "z = my_deque.popleft()\n",
    "print(z)\n",
    "print(my_deque)\n",
    "\n",
    "if not my_deque:\n",
    "    print(\"empty deque\")\n"
   ]
  },
  {
   "cell_type": "code",
   "execution_count": 140,
   "metadata": {},
   "outputs": [
    {
     "name": "stdout",
     "output_type": "stream",
     "text": [
      "array('i', [1, 2, 3])\n",
      "3\n",
      "array('i', [1, 2])\n",
      "array('i', [1, 2, 4])\n",
      "array('i', [0, 1, 2, 4])\n"
     ]
    }
   ],
   "source": [
    "# The array is a fundamental data structure that provides a more efficient way to store and access a large number of\n",
    "# elements of the same data type than a regular list.\n",
    "# The difference between arrays and lists is that arrays are more efficient for storing and accessing a large number of elements of the same data type.\n",
    "# NB: list cannot be modified by replacing or adding say a float to a list of intergers\n",
    "# arrays are used when you are encountering performance issues in a program if not , use list and tuples by default\n",
    "\n",
    "from array import array\n",
    "\n",
    "number = array(\"i\", [1, 2, 3]) # \"i\" represents the typecode\n",
    "print(number)\n",
    "x = number.pop()\n",
    "print(x)\n",
    "print(number)\n",
    "number.append(4)\n",
    "print(number)\n",
    "number.insert(0, 0)\n",
    "print(number)\n",
    "\n"
   ]
  },
  {
   "cell_type": "code",
   "execution_count": 143,
   "metadata": {},
   "outputs": [
    {
     "name": "stdout",
     "output_type": "stream",
     "text": [
      "{1, 4}\n",
      "{0, 2, 5, 6}\n",
      "{0, 1, 2, 4, 5, 6}\n",
      "{0, 2}\n"
     ]
    }
   ],
   "source": [
    "# SETS\n",
    "# its a collection of unique elements and are created using curly braces {} or by using the set() function. For example:\n",
    "\n",
    "numbers = [1, 1, 2, 3]\n",
    "first_set = set(number)\n",
    "second_set = {1, 4, 5, 6}\n",
    "\n",
    "print(first_set & second_set)\n",
    "print(first_set ^ second_set)\n",
    "print(first_set | second_set)\n",
    "print(first_set - second_set)"
   ]
  }
 ],
 "metadata": {
  "kernelspec": {
   "display_name": "Python 3",
   "language": "python",
   "name": "python3"
  },
  "language_info": {
   "codemirror_mode": {
    "name": "ipython",
    "version": 3
   },
   "file_extension": ".py",
   "mimetype": "text/x-python",
   "name": "python",
   "nbconvert_exporter": "python",
   "pygments_lexer": "ipython3",
   "version": "3.10.6"
  },
  "orig_nbformat": 4,
  "vscode": {
   "interpreter": {
    "hash": "e7370f93d1d0cde622a1f8e1c04877d8463912d04d973331ad4851f04de6915a"
   }
  }
 },
 "nbformat": 4,
 "nbformat_minor": 2
}
